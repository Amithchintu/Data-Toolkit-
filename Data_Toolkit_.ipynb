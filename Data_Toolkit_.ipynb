{
  "nbformat": 4,
  "nbformat_minor": 0,
  "metadata": {
    "colab": {
      "provenance": [],
      "authorship_tag": "ABX9TyM9bxNcrSytBfsMRuJjLh2L",
      "include_colab_link": true
    },
    "kernelspec": {
      "name": "python3",
      "display_name": "Python 3"
    },
    "language_info": {
      "name": "python"
    }
  },
  "cells": [
    {
      "cell_type": "markdown",
      "metadata": {
        "id": "view-in-github",
        "colab_type": "text"
      },
      "source": [
        "<a href=\"https://colab.research.google.com/github/Amithchintu/Data-Toolkit-/blob/main/Data_Toolkit_.ipynb\" target=\"_parent\"><img src=\"https://colab.research.google.com/assets/colab-badge.svg\" alt=\"Open In Colab\"/></a>"
      ]
    },
    {
      "cell_type": "markdown",
      "source": [
        "# People Dataset h-\n",
        "\n",
        "https://drive.google.com/file/d/13x8f8HNKieSRAzxTIzAojaYp8Up8cefk/view"
      ],
      "metadata": {
        "id": "kui9EclgGDlY"
      }
    },
    {
      "cell_type": "markdown",
      "source": [
        "# Demonstrate three different methods for creating identical 2D arrays in NumPy. Provide the code for each method and the final output after each method.\n",
        "\n",
        "# Creating identical 2D arrays in NumPy can be achieved through several methods. Below are three different approaches, along with the code for each method and the corresponding output.\n",
        "\n",
        "# Method 1: Using np.array()\n",
        "# This method involves explicitly creating a 2D array using the np.array() function with a list of lists.\n"
      ],
      "metadata": {
        "id": "Mvce1rOEGemP"
      }
    },
    {
      "cell_type": "code",
      "execution_count": 1,
      "metadata": {
        "id": "CB0__SYJF0Cl",
        "colab": {
          "base_uri": "https://localhost:8080/"
        },
        "outputId": "d8a51a27-6218-4258-85df-1c09e361c79c"
      },
      "outputs": [
        {
          "output_type": "stream",
          "name": "stdout",
          "text": [
            "Method 1 Output:\n",
            "[[1 2 3]\n",
            " [4 5 6]\n",
            " [7 8 9]]\n"
          ]
        }
      ],
      "source": [
        "import numpy as np\n",
        "\n",
        "# Method 1: Creating a 2D array using np.array\n",
        "array1 = np.array([[1, 2, 3],\n",
        "                   [4, 5, 6],\n",
        "                   [7, 8, 9]])\n",
        "\n",
        "print(\"Method 1 Output:\")\n",
        "print(array1)"
      ]
    },
    {
      "cell_type": "markdown",
      "source": [
        "# Method 2: Using np.zeros()\n",
        "# This method creates a 2D array filled with zeros. You can then assign the desired values."
      ],
      "metadata": {
        "id": "_efUEJmmuJXb"
      }
    },
    {
      "cell_type": "code",
      "source": [
        "# Method 2: Creating a 2D array using np.zeros and assigning values\n",
        "array2 = np.zeros((3, 3), dtype=int)\n",
        "array2[0] = [1, 2, 3]\n",
        "array2[1] = [4, 5, 6]\n",
        "array2[2] = [7, 8, 9]\n",
        "\n",
        "print(\"\\nMethod 2 Output:\")\n",
        "print(array2)"
      ],
      "metadata": {
        "colab": {
          "base_uri": "https://localhost:8080/"
        },
        "id": "_RmpxlLRuD6X",
        "outputId": "b88408b0-7806-4735-d753-327421b90167"
      },
      "execution_count": 2,
      "outputs": [
        {
          "output_type": "stream",
          "name": "stdout",
          "text": [
            "\n",
            "Method 2 Output:\n",
            "[[1 2 3]\n",
            " [4 5 6]\n",
            " [7 8 9]]\n"
          ]
        }
      ]
    },
    {
      "cell_type": "markdown",
      "source": [
        "# Method 3: Using np.full()\n",
        "# This method creates a 2D array filled with a specified value (useful if you wanted to initialize with a constant). However, we can use it to create an identical 2D array by specifying the values directly."
      ],
      "metadata": {
        "id": "KWX4DPCOudsS"
      }
    },
    {
      "cell_type": "code",
      "source": [
        "# Method 3: Creating a 2D array using np.full\n",
        "array3 = np.full((3, 3), 0)  # Create an empty array with shape (3, 3)\n",
        "array3[0] = [1, 2, 3]         # Assign the rows\n",
        "array3[1] = [4, 5, 6]\n",
        "array3[2] = [7, 8, 9]\n",
        "\n",
        "print(\"\\nMethod 3 Output:\")\n",
        "print(array3)"
      ],
      "metadata": {
        "colab": {
          "base_uri": "https://localhost:8080/"
        },
        "id": "6aZzq_4QuWw_",
        "outputId": "f678d45e-ef39-40e9-aab0-0ff179f77362"
      },
      "execution_count": 3,
      "outputs": [
        {
          "output_type": "stream",
          "name": "stdout",
          "text": [
            "\n",
            "Method 3 Output:\n",
            "[[1 2 3]\n",
            " [4 5 6]\n",
            " [7 8 9]]\n"
          ]
        }
      ]
    },
    {
      "cell_type": "markdown",
      "source": [
        "# Final Results\n",
        "# All three methods produce the same output:"
      ],
      "metadata": {
        "id": "wii5mb7yuwr0"
      }
    },
    {
      "cell_type": "markdown",
      "source": [
        "# 2. Using the Numpy function, generate an array of 100 evenly spaced numPers Petween 1 and 10 and Reshape that 1D array into a 2D array.\n",
        "\n",
        "# You can use the numpy.linspace() function to generate an array of evenly spaced numbers between a specified range. After that, you can reshape it into a 2D array using the .reshape() method. Below is the code that accomplishes this task.\n",
        "\n"
      ],
      "metadata": {
        "id": "Y6d9nUx2u3hh"
      }
    },
    {
      "cell_type": "code",
      "source": [
        "import numpy as np\n",
        "\n",
        "# Generate an array of 100 evenly spaced numbers between 1 and 10\n",
        "array_1d = np.linspace(1, 10, 100)\n",
        "\n",
        "# Reshape the 1D array into a 2D array with 10 rows and 10 columns\n",
        "array_2d = array_1d.reshape(10, 10)\n",
        "\n",
        "print(\"2D Array Output:\")\n",
        "print(array_2d)"
      ],
      "metadata": {
        "colab": {
          "base_uri": "https://localhost:8080/"
        },
        "id": "Vdn0Z1OIwJxj",
        "outputId": "4f51d060-835d-4922-8eec-ba884f57f33f"
      },
      "execution_count": 4,
      "outputs": [
        {
          "output_type": "stream",
          "name": "stdout",
          "text": [
            "2D Array Output:\n",
            "[[ 1.          1.09090909  1.18181818  1.27272727  1.36363636  1.45454545\n",
            "   1.54545455  1.63636364  1.72727273  1.81818182]\n",
            " [ 1.90909091  2.          2.09090909  2.18181818  2.27272727  2.36363636\n",
            "   2.45454545  2.54545455  2.63636364  2.72727273]\n",
            " [ 2.81818182  2.90909091  3.          3.09090909  3.18181818  3.27272727\n",
            "   3.36363636  3.45454545  3.54545455  3.63636364]\n",
            " [ 3.72727273  3.81818182  3.90909091  4.          4.09090909  4.18181818\n",
            "   4.27272727  4.36363636  4.45454545  4.54545455]\n",
            " [ 4.63636364  4.72727273  4.81818182  4.90909091  5.          5.09090909\n",
            "   5.18181818  5.27272727  5.36363636  5.45454545]\n",
            " [ 5.54545455  5.63636364  5.72727273  5.81818182  5.90909091  6.\n",
            "   6.09090909  6.18181818  6.27272727  6.36363636]\n",
            " [ 6.45454545  6.54545455  6.63636364  6.72727273  6.81818182  6.90909091\n",
            "   7.          7.09090909  7.18181818  7.27272727]\n",
            " [ 7.36363636  7.45454545  7.54545455  7.63636364  7.72727273  7.81818182\n",
            "   7.90909091  8.          8.09090909  8.18181818]\n",
            " [ 8.27272727  8.36363636  8.45454545  8.54545455  8.63636364  8.72727273\n",
            "   8.81818182  8.90909091  9.          9.09090909]\n",
            " [ 9.18181818  9.27272727  9.36363636  9.45454545  9.54545455  9.63636364\n",
            "   9.72727273  9.81818182  9.90909091 10.        ]]\n"
          ]
        }
      ]
    },
    {
      "cell_type": "markdown",
      "source": [
        "# Explanation:\n",
        "# np.linspace(1, 10, 100) generates an array of 100 numbers evenly spaced between 1 and 10.\n",
        "# .reshape(10, 10) reshapes the 1D array of 100 elements into a 2D array with 10 rows and 10 columns."
      ],
      "metadata": {
        "id": "bDuwWMwawIxb"
      }
    },
    {
      "cell_type": "markdown",
      "source": [
        "# This output effectively demonstrates a 2D representation of 100 evenly spaced numbers between 1 and 10."
      ],
      "metadata": {
        "id": "jaaHojh-wnhE"
      }
    },
    {
      "cell_type": "markdown",
      "source": [
        "# 3. Explain the following terms:\n",
        "# 1. The difference in np.array, np.asarray and np.asanyarray.\n",
        "# 2. The difference between Deep copy and shallow copy.\n",
        "\n",
        "# 1. Difference between np.array, np.asarray, and np.asanyarray\n",
        "\n",
        "#np.array\n",
        "\n",
        "# Description: This function creates a new array from a provided object (like lists, tuples, etc.). The input can be any object that can be converted to an array.\n",
        "# Behavior: When you use np.array, it will always create a new array, regardless of the input type. It can also create an array from a nested list or nested tuples.\n",
        "# Use Case: Use np.array when you want to ensure that a brand new NumPy array is created, often when starting with arbitrary data structures."
      ],
      "metadata": {
        "id": "OCKlSrYOw1wU"
      }
    },
    {
      "cell_type": "markdown",
      "source": [
        "# np.asarray\n",
        "# Description: This function also creates an array from a given object. However, it attempts to return a view of the original data if it is already a NumPy array.\n",
        "# Behavior: If the input is already an array (i.e., an instance of np.ndarray), np.asarray returns the original array without copying. It only creates a new array if the input is not an ndarray.\n",
        "# Use Case: Use np.asarray when you want to convert data to a NumPy array but want to avoid unnecessary copies for performance reasons if the data is already in a NumPy array format."
      ],
      "metadata": {
        "id": "DfTggJHMxvGs"
      }
    },
    {
      "cell_type": "markdown",
      "source": [
        "# np.asanyarray\n",
        "\n",
        "# Description: This function is similar to np.asarray, but it is more permissive in its input handling.\n",
        "# Behavior: Like np.asarray, it returns a view if the input is already an instance of np.ndarray but will return subclasses of np.ndarray (like np.matrix) as well. The goal is to treat those inputs as arrays while allowing for flexibility with different array-like input types.\n",
        "# Use Case: Use np.asanyarray when you want to ensure that the output is an array (including subclasses) without converting them into a base np.ndarray.\n",
        "\n",
        "# 2. Difference between Deep Copy and Shallow Copy\n",
        "\n",
        "# Shallow Copy\n",
        "\n",
        "# Definition: A shallow copy creates a new object, but instead of creating copies of nested objects, it only copies references to those objects. Therefore, changes made to nested objects will affect both the original and the copied object.\n",
        "# Behavior: If the original object contains references to mutable objects (like lists), the shallow copy will still reference the original mutable objects. Changes in those mutable objects will reflect in both the original and copied objects.\n",
        "# Method: In Python, you can create a shallow copy using the copy module (e.g., copy.copy()) or using container-specific methods (like list.copy() for lists).\n",
        "\n"
      ],
      "metadata": {
        "id": "0yf_mFV3x3Eq"
      }
    },
    {
      "cell_type": "code",
      "source": [
        "import copy\n",
        "\n",
        "original = [[1, 2, 3], [4, 5, 6]]\n",
        "shallow_copied = copy.copy(original)\n",
        "\n",
        "shallow_copied[0][0] = 10\n",
        "print(original)\n",
        "print(shallow_copied)"
      ],
      "metadata": {
        "colab": {
          "base_uri": "https://localhost:8080/"
        },
        "id": "PiTvOphvumGl",
        "outputId": "a76323ad-1f6a-4f3c-a284-f5edafc89ce2"
      },
      "execution_count": 5,
      "outputs": [
        {
          "output_type": "stream",
          "name": "stdout",
          "text": [
            "[[10, 2, 3], [4, 5, 6]]\n",
            "[[10, 2, 3], [4, 5, 6]]\n"
          ]
        }
      ]
    },
    {
      "cell_type": "markdown",
      "source": [
        "# Deep Copy\n",
        "\n",
        "# Definition: A deep copy creates a new object and recursively copies all objects found within the original object, ensuring that the copied object is completely independent of the original. Changes in nested objects do not affect the original object.\n",
        "# Behavior: A deep copy will clone everything, meaning all objects and their contents are copied. Modifying the nested objects in the copied object will not affect the original object.\n",
        "# Method: You can create a deep copy using the copy module (e.g., copy.deepcopy())."
      ],
      "metadata": {
        "id": "jfeS7ldjyvwc"
      }
    },
    {
      "cell_type": "code",
      "source": [
        "import copy\n",
        "\n",
        "original = [[1, 2, 3], [4, 5, 6]]\n",
        "deep_copied = copy.deepcopy(original)\n",
        "\n",
        "deep_copied[0][0] = 10\n",
        "print(original)\n",
        "print(deep_copied)"
      ],
      "metadata": {
        "colab": {
          "base_uri": "https://localhost:8080/"
        },
        "id": "Fr30Qo2sypxa",
        "outputId": "c1930f1e-6434-48a4-9b35-958cbe377214"
      },
      "execution_count": 6,
      "outputs": [
        {
          "output_type": "stream",
          "name": "stdout",
          "text": [
            "[[1, 2, 3], [4, 5, 6]]\n",
            "[[10, 2, 3], [4, 5, 6]]\n"
          ]
        }
      ]
    },
    {
      "cell_type": "markdown",
      "source": [
        "# This comparison highlights the key differences between shallow and deep copies, as well as the usage of np.array, np.asarray, and np.asanyarray in NumPy."
      ],
      "metadata": {
        "id": "wsqhOlnzzIn0"
      }
    },
    {
      "cell_type": "markdown",
      "source": [
        "# 4. Generate a 3x3 array with random floating-point numbers between 5 and 20. then, round each number in the array to 2 decimal places.\n",
        "\n",
        "#  generate a 3x3 array with random floating-point numbers between 5 and 20 using NumPy's np.random.uniform() function. After generating the array, you can round each number to 2 decimal places using np.round(). Here's the complete code to achieve this:"
      ],
      "metadata": {
        "id": "Fz-9fpx-zL1d"
      }
    },
    {
      "cell_type": "code",
      "source": [
        "import numpy as np\n",
        "\n",
        "# Generate a 3x3 array with random floating-point numbers between 5 and 20\n",
        "random_array = np.random.uniform(5, 20, size=(3, 3))\n",
        "\n",
        "# Round each number to 2 decimal places\n",
        "rounded_array = np.round(random_array, 2)\n",
        "\n",
        "print(\"Random Array (Rounded to 2 Decimal Places):\")\n",
        "print(rounded_array)"
      ],
      "metadata": {
        "colab": {
          "base_uri": "https://localhost:8080/"
        },
        "id": "gwpTY2Pu0L4F",
        "outputId": "70455625-3f56-4081-d033-176235218c2d"
      },
      "execution_count": 7,
      "outputs": [
        {
          "output_type": "stream",
          "name": "stdout",
          "text": [
            "Random Array (Rounded to 2 Decimal Places):\n",
            "[[16.   12.8   9.82]\n",
            " [ 9.94 15.77 19.6 ]\n",
            " [ 5.3  17.73  5.84]]\n"
          ]
        }
      ]
    },
    {
      "cell_type": "markdown",
      "source": [
        "# Each time you run the code, you'll see different random numbers in the output, rounded to two decimal places."
      ],
      "metadata": {
        "id": "us01thtR0Zz9"
      }
    },
    {
      "cell_type": "markdown",
      "source": [
        "# 5. Create a NumPy array with random integers between 1 and 10 of shape (5,6 ). After creating the array perform the following operations:\n",
        "\n",
        "# a)Extract all even integers from array.\n",
        "\n",
        "# b)Extract all odd integers from array.\n",
        "\n",
        "# create a NumPy array with random integers between 1 and 10 using the np.random.randint() function. After creating the array, you can extract the even and odd integers using boolean indexing. Below is the complete code that accomplishes these tasks:\n"
      ],
      "metadata": {
        "id": "0fg-4Dme0qh7"
      }
    },
    {
      "cell_type": "code",
      "source": [
        "import numpy as np\n",
        "\n",
        "# Create a 5x6 array with random integers between 1 and 10 (inclusive)\n",
        "array = np.random.randint(1, 11, size=(5, 6))\n",
        "\n",
        "print(\"Original Array:\")\n",
        "print(array)\n",
        "\n",
        "# a) Extract all even integers from the array\n",
        "even_numbers = array[array % 2 == 0]\n",
        "print(\"\\nEven Integers:\")\n",
        "print(even_numbers)\n",
        "\n",
        "# b) Extract all odd integers from the array\n",
        "odd_numbers = array[array % 2 != 0]\n",
        "print(\"\\nOdd Integers:\")\n",
        "print(odd_numbers)"
      ],
      "metadata": {
        "colab": {
          "base_uri": "https://localhost:8080/"
        },
        "id": "DiytNBa7y_Pr",
        "outputId": "9fdac385-19bc-437f-8baa-b6c22106d5c5"
      },
      "execution_count": 8,
      "outputs": [
        {
          "output_type": "stream",
          "name": "stdout",
          "text": [
            "Original Array:\n",
            "[[ 4  1  4  7  2  6]\n",
            " [ 4  7  4  5  6  4]\n",
            " [ 9  7 10  9  4  6]\n",
            " [ 2  7 10  5  9  8]\n",
            " [10  6  4  1  8  5]]\n",
            "\n",
            "Even Integers:\n",
            "[ 4  4  2  6  4  4  6  4 10  4  6  2 10  8 10  6  4  8]\n",
            "\n",
            "Odd Integers:\n",
            "[1 7 7 5 9 7 9 7 5 9 1 5]\n"
          ]
        }
      ]
    },
    {
      "cell_type": "markdown",
      "source": [
        "# Explanation:\n",
        "# np.random.randint(1, 11, size=(5, 6)) creates a 5x6 array with random integers between 1 and 10 inclusive. The upper limit is 11 since the randint function generates numbers up to but not including the specified upper limit.\n",
        "# array % 2 == 0 generates a boolean array where elements are True for even integers.\n",
        "# array[array % 2 == 0] uses boolean indexing to extract all even integers from the array.\n",
        "# array % 2 != 0 generates a boolean array for odd integers, and similar indexing is used to extract them."
      ],
      "metadata": {
        "id": "qahuiDBO1hE0"
      }
    },
    {
      "cell_type": "markdown",
      "source": [
        "# The actual values will change each time you run the program since they are randomly generated. The even_numbers will only include even integers, while odd_numbers will only include odd integers from the original array."
      ],
      "metadata": {
        "id": "8EYRJ4TQ10Qa"
      }
    },
    {
      "cell_type": "markdown",
      "source": [
        "# 6. Create a 3D NumPy array of shape (3, 3, 3) containing random integers between 1 and 10. Perform the following operations:\n",
        "\n",
        " # a) Find the indices of the maximum values along each depth level (third axis).\n",
        "\n",
        " # b) Perform element-wise multiplication of between both array.\n",
        "\n",
        " # create a 3D NumPy array with random integers between 1 and 10 using the np.random.randint() function. After creating the array, you can find the indices of the maximum values along the third axis and perform element-wise multiplication. Below is the complete code to perform these operations:"
      ],
      "metadata": {
        "id": "T_y0GdBX19M7"
      }
    },
    {
      "cell_type": "code",
      "source": [
        "import numpy as np\n",
        "\n",
        "# Create a 3D array of shape (3, 3, 3) with random integers between 1 and 10\n",
        "array_3d = np.random.randint(1, 11, size=(3, 3, 3))\n",
        "\n",
        "print(\"Original 3D Array:\")\n",
        "print(array_3d)\n",
        "\n",
        "# a) Find the indices of the maximum values along the depth level (third axis)\n",
        "max_indices = np.argmax(array_3d, axis=2)\n",
        "print(\"\\nIndices of Maximum Values Along Each Depth Level:\")\n",
        "print(max_indices)\n",
        "\n",
        "# b) Perform element-wise multiplication between the original array and itself\n",
        "multiplication_result = array_3d * array_3d\n",
        "print(\"\\nElement-wise Multiplication Result:\")\n",
        "print(multiplication_result)"
      ],
      "metadata": {
        "colab": {
          "base_uri": "https://localhost:8080/"
        },
        "id": "45r-GK9a1cLf",
        "outputId": "1fa23205-63ab-41ce-f2ca-6d7075d8fbda"
      },
      "execution_count": 9,
      "outputs": [
        {
          "output_type": "stream",
          "name": "stdout",
          "text": [
            "Original 3D Array:\n",
            "[[[ 4  9  4]\n",
            "  [ 1  6  6]\n",
            "  [ 9  4  4]]\n",
            "\n",
            " [[ 8  6  1]\n",
            "  [ 8  4  6]\n",
            "  [ 9  5  8]]\n",
            "\n",
            " [[ 5  3 10]\n",
            "  [ 9  4  7]\n",
            "  [ 6  8  4]]]\n",
            "\n",
            "Indices of Maximum Values Along Each Depth Level:\n",
            "[[1 1 0]\n",
            " [0 0 0]\n",
            " [2 0 1]]\n",
            "\n",
            "Element-wise Multiplication Result:\n",
            "[[[ 16  81  16]\n",
            "  [  1  36  36]\n",
            "  [ 81  16  16]]\n",
            "\n",
            " [[ 64  36   1]\n",
            "  [ 64  16  36]\n",
            "  [ 81  25  64]]\n",
            "\n",
            " [[ 25   9 100]\n",
            "  [ 81  16  49]\n",
            "  [ 36  64  16]]]\n"
          ]
        }
      ]
    },
    {
      "cell_type": "markdown",
      "source": [
        "# Explanation:\n",
        "# np.random.randint(1, 11, size=(3, 3, 3)) creates a 3D array with random integers between 1 and 10 (inclusive).\n",
        "# np.argmax(array_3d, axis=2) finds the indices of the maximum values along the third axis (depth level). The result is a 2D array where each element represents the index of the maximum value in the corresponding slice.\n",
        "# Element-wise multiplication between the array and itself is performed using simple multiplication (array_3d * array_3d), which squares each element in the array."
      ],
      "metadata": {
        "id": "R1Wrb4Zi3R2M"
      }
    },
    {
      "cell_type": "markdown",
      "source": [
        "# The original 3D array shows the randomly generated integers.\n",
        "# The max_indices shows the indices of the maximum values along each depth level.\n",
        "# The multiplication_result shows the element-wise multiplication of the array."
      ],
      "metadata": {
        "id": "3xnacIyz3bX1"
      }
    },
    {
      "cell_type": "markdown",
      "source": [
        "# 7. Clean and transform the 'Phone' column in the sample dataset to remove non-numeric characters and convert it to a numeric data type. Also display the table attributes and data types of each column.\n",
        "\n",
        "# To clean and transform the 'Phone' column in a dataset, you'll typically use libraries like Pandas in Python. Here's how you can remove non-numeric characters from the 'Phone' column, convert it to a numeric data type, and display the attributes and data types of each column."
      ],
      "metadata": {
        "id": "PoQhmym83u-e"
      }
    },
    {
      "cell_type": "code",
      "source": [
        "import pandas as pd\n",
        "import numpy as np\n",
        "from io import StringIO\n",
        "\n",
        "# Sample CSV data\n",
        "data = \"\"\"Index,User Id,First Name,Last Name,Gender,Email,Phone,Date of birth,Job Title,Salary\n",
        "1,8717bbf45cCDbEe,Shelia,Mahoney,Male,pwarner@example.org,857.139.8239,27-01-2014,Probation officer,90000\n",
        "2,3d5AD30A4cD38ed,Jo,Rivers,Female,fergusonkatherine@example.net,,26-07-1931,Dancer,80000\n",
        "...\n",
        "(Include all other rows from your data)...\n",
        "\"\"\"\n",
        "\n",
        "# Read the data into a DataFrame\n",
        "df = pd.read_csv(StringIO(data))\n",
        "\n",
        "# Show the original DataFrame\n",
        "print(\"Original DataFrame:\")\n",
        "print(df)\n",
        "\n",
        "# Clean and transform the 'Phone' column\n",
        "df['Phone'] = df['Phone'].replace(np.nan, '', regex=True)  # Replace NaN with empty string for processing\n",
        "df['Phone'] = df['Phone'].str.replace(r'\\D', '', regex=True)  # Remove non-numeric characters\n",
        "df['Phone'] = pd.to_numeric(df['Phone'], errors='coerce')  # Convert to numeric (will convert non-numeric to NaN)\n",
        "\n",
        "# Display the cleaned DataFrame\n",
        "print(\"\\nCleaned DataFrame:\")\n",
        "print(df)\n",
        "\n",
        "# Display the attributes and data types of each column\n",
        "print(\"\\nDataFrame Attributes and Data Types:\")\n",
        "print(df.dtypes)"
      ],
      "metadata": {
        "colab": {
          "base_uri": "https://localhost:8080/"
        },
        "id": "Wbx-KYIL3HO_",
        "outputId": "d711ecdb-6eb3-4db3-d972-f728286ac89e"
      },
      "execution_count": 11,
      "outputs": [
        {
          "output_type": "stream",
          "name": "stdout",
          "text": [
            "Original DataFrame:\n",
            "                                        Index          User Id First Name  \\\n",
            "0                                           1  8717bbf45cCDbEe     Shelia   \n",
            "1                                           2  3d5AD30A4cD38ed         Jo   \n",
            "2                                         ...              NaN        NaN   \n",
            "3  (Include all other rows from your data)...              NaN        NaN   \n",
            "\n",
            "  Last Name  Gender                          Email         Phone  \\\n",
            "0   Mahoney    Male            pwarner@example.org  857.139.8239   \n",
            "1    Rivers  Female  fergusonkatherine@example.net           NaN   \n",
            "2       NaN     NaN                            NaN           NaN   \n",
            "3       NaN     NaN                            NaN           NaN   \n",
            "\n",
            "  Date of birth          Job Title   Salary  \n",
            "0    27-01-2014  Probation officer  90000.0  \n",
            "1    26-07-1931             Dancer  80000.0  \n",
            "2           NaN                NaN      NaN  \n",
            "3           NaN                NaN      NaN  \n",
            "\n",
            "Cleaned DataFrame:\n",
            "                                        Index          User Id First Name  \\\n",
            "0                                           1  8717bbf45cCDbEe     Shelia   \n",
            "1                                           2  3d5AD30A4cD38ed         Jo   \n",
            "2                                         ...              NaN        NaN   \n",
            "3  (Include all other rows from your data)...              NaN        NaN   \n",
            "\n",
            "  Last Name  Gender                          Email         Phone  \\\n",
            "0   Mahoney    Male            pwarner@example.org  8.571398e+09   \n",
            "1    Rivers  Female  fergusonkatherine@example.net           NaN   \n",
            "2       NaN     NaN                            NaN           NaN   \n",
            "3       NaN     NaN                            NaN           NaN   \n",
            "\n",
            "  Date of birth          Job Title   Salary  \n",
            "0    27-01-2014  Probation officer  90000.0  \n",
            "1    26-07-1931             Dancer  80000.0  \n",
            "2           NaN                NaN      NaN  \n",
            "3           NaN                NaN      NaN  \n",
            "\n",
            "DataFrame Attributes and Data Types:\n",
            "Index             object\n",
            "User Id           object\n",
            "First Name        object\n",
            "Last Name         object\n",
            "Gender            object\n",
            "Email             object\n",
            "Phone            float64\n",
            "Date of birth     object\n",
            "Job Title         object\n",
            "Salary           float64\n",
            "dtype: object\n"
          ]
        }
      ]
    },
    {
      "cell_type": "markdown",
      "source": [
        "# Explanation:\n",
        "# Read CSV Data: The pd.read_csv(StringIO(data)) is used to simulate reading from a CSV file. You should replace StringIO(data) with your actual file path (e.g., pd.read_csv('your_file.csv')).\n",
        "# Clean the 'Phone' Column:\n",
        "# Replace NaN: Any NaN values are replaced with an empty string to avoid errors during processing.\n",
        "# Remove Non-Numeric Characters: The str.replace(r'\\D', '', regex=True) method removes all non-numeric characters from the 'Phone' column.\n",
        "# Convert to Numeric: The pd.to_numeric(...) function converts the column to a numeric type. Non-numeric values convert to NaN.\n",
        "# Display Data Types: The df.dtypes attribute shows the data type of each column in the DataFrame."
      ],
      "metadata": {
        "id": "8F1AzOYz5V7z"
      }
    },
    {
      "cell_type": "markdown",
      "source": [
        "# The 'Phone' column is cleaned of non-numeric characters, and any previous invalid entries are converted to NaN.\n",
        "# The data types reflect the changes made. The 'Phone' column is now of type float64 because it contains NaN values after the cleaning process."
      ],
      "metadata": {
        "id": "IIj36QTi6Dh1"
      }
    },
    {
      "cell_type": "markdown",
      "source": [
        "# 8. Perform the following tasks using people dataset:\n",
        "\n",
        "# a) Read the 'data.csv' file using pandas, skipping the first 50 rows.\n",
        "\n",
        "# b) Only read the columns: 'Last Name', ‘Gender’,’Email’,‘Phone’ and ‘Salary’ from the file.\n",
        "\n",
        "# c) Display the first 10 rows of the filtered dataset.\n",
        "\n",
        "# d) Extract the ‘Salary’' column as a Series and display its last 5 values.\n",
        "\n",
        "# perform the tasks outlined in your question using the Pandas library in Python. Below is the complete code demonstrating how to read the 'data.csv' file, filter the specific columns, and display the required information as specified:"
      ],
      "metadata": {
        "id": "GbaaRNgv6IFv"
      }
    },
    {
      "cell_type": "code",
      "source": [
        "import pandas as pd\n",
        "\n",
        "# a) Read the 'data.csv' file using pandas, skipping the first 50 rows.\n",
        "# Adjust the filepath as needed.\n",
        "df = pd.read_csv('data.csv', skiprows=50)\n",
        "\n",
        "# b) Only read the columns: 'Last Name', 'Gender', 'Email', 'Phone' and 'Salary'.\n",
        "filtered_columns = df[['Last Name', 'Gender', 'Email', 'Phone', 'Salary']]\n",
        "\n",
        "# c) Display the first 10 rows of the filtered dataset.\n",
        "print(\"First 10 rows of the filtered dataset:\")\n",
        "print(filtered_columns.head(10))\n",
        "\n",
        "# d) Extract the 'Salary' column as a Series and display its last 5 values.\n",
        "salary_series = filtered_columns['Salary']\n",
        "print(\"\\nLast 5 values of the 'Salary' column:\")\n",
        "print(salary_series.tail(5))"
      ],
      "metadata": {
        "id": "mZAfyWQI7Ak1"
      },
      "execution_count": null,
      "outputs": []
    },
    {
      "cell_type": "markdown",
      "source": [
        "# Explanation:\n",
        "\n",
        "#Reading the CSV:\n",
        "\n",
        "# The pd.read_csv() function is used to read the CSV file. The parameter skiprows=50 ensures that the first 50 rows are skipped in the reading process.\n",
        "\n",
        "# Filtering Columns:\n",
        "\n",
        "# The DataFrame df is filtered to select only the specified columns: 'Last Name', 'Gender', 'Email', 'Phone', and 'Salary'. This is done using df[['Column1', 'Column2', ...]].\n",
        "\n",
        "# Displaying the First 10 Rows:\n",
        "\n",
        "# The head(10) method returns the first 10 rows of the filtered DataFrame, which is then printed.\n",
        "\n",
        "# Extracting the 'Salary' Column:\n",
        "\n",
        "# The 'Salary' column is extracted as a Series. The tail(5) method is used to display the last 5 values from this Series."
      ],
      "metadata": {
        "id": "xu-k_gJM7TAJ"
      }
    },
    {
      "cell_type": "markdown",
      "source": [
        "# Notes:\n",
        "# Make sure to provide the correct path to your data.csv file in the pd.read_csv('data.csv') line.\n",
        "# This code assumes you have the necessary packages installed in your Python environment. If you haven't installed Pandas yet, you can do so using the command pip install pandas."
      ],
      "metadata": {
        "id": "9FE87Ans7pMu"
      }
    },
    {
      "cell_type": "markdown",
      "source": [
        "# 9. Filter and select rows from the People_Dataset, where the “Last Name' column contains the name 'Duke', 'Gender' column contains the word Female and ‘salary’ should be less than 85000.\n",
        "\n",
        "# To filter and select rows from a DataFrame where the \"Last Name\" column contains 'Duke', the \"Gender\" column is 'Female', and the \"Salary\" is less than 85000, you can use Pandas in Python. Below is an example of how to do this:\n",
        "\n"
      ],
      "metadata": {
        "id": "LOnyyP4i7xXF"
      }
    },
    {
      "cell_type": "code",
      "source": [
        "import pandas as pd\n",
        "\n",
        "# Assuming you have already imported your dataset into a DataFrame called df\n",
        "# For example:\n",
        "# df = pd.read_csv('data.csv')\n",
        "\n",
        "# Filter the DataFrame for the specified conditions\n",
        "filtered_df = df[\n",
        "    (df['Last Name'].str.contains('Duke', case=False, na=False)) &amp;  # Last Name contains 'Duke'\n",
        "    (df['Gender'] == 'Female') &amp;  # Gender is 'Female'\n",
        "    (df['Salary'] &lt; 85000)  # Salary is less than 85000\n",
        "]\n",
        "\n",
        "# Display the filtered DataFrame\n",
        "print(\"Filtered Rows:\")\n",
        "print(filtered_df)"
      ],
      "metadata": {
        "id": "iQF3duZd8rYC"
      },
      "execution_count": null,
      "outputs": []
    },
    {
      "cell_type": "markdown",
      "source": [
        "# Explanation:\n",
        "# str.contains('Duke', case=False, na=False):\n",
        "\n",
        "# This condition checks if the \"Last Name\" contains the substring 'Duke' (case-insensitive) and handles any NaN values by excluding them from the evaluation.\n",
        "\n",
        "# df['Gender'] == 'Female':\n",
        "\n",
        "# This checks that the \"Gender\" column is exactly 'Female'.\n",
        "\n",
        "# df['Salary'] &lt; 85000:\n",
        "\n",
        "# This condition checks that the \"Salary\" is less than 85000.\n",
        "\n",
        "# Combining Conditions:\n",
        "\n",
        "# The logical AND operator &amp; is used to combine the three conditions.\n",
        "# Displaying the Filtered Data:\n",
        "\n",
        "# The result is stored in filtered_df and then printed out.\n",
        "\n",
        "# Note:\n",
        "# Replace df = pd.read_csv('data.csv') with your actual DataFrame variable name if you have already loaded your data.\n",
        "# Ensure that the DataFrame has the appropriate column names as used in the filtering conditions."
      ],
      "metadata": {
        "id": "15a2mVfa8u-U"
      }
    },
    {
      "cell_type": "markdown",
      "source": [
        "# 10. Create a 7*5 Dataframe in Pandas using a series generated from 35 random integers Between 1 to 6?\n",
        "\n",
        "# To create a 7x5 DataFrame in Pandas using a series generated from 35 random integers between 1 and 6, you can use the following code:\n",
        "\n"
      ],
      "metadata": {
        "id": "7hSogCgU9Wk3"
      }
    },
    {
      "cell_type": "code",
      "source": [
        "import pandas as pd\n",
        "import numpy as np\n",
        "\n",
        "# Generate 35 random integers between 1 and 6\n",
        "random_integers = np.random.randint(1, 7, size=35)\n",
        "\n",
        "# Create a DataFrame with 7 rows and 5 columns\n",
        "df = pd.DataFrame(random_integers.reshape(7, 5), columns=['Col1', 'Col2', 'Col3', 'Col4', 'Col5'])\n",
        "\n",
        "# Display the DataFrame\n",
        "print(df)"
      ],
      "metadata": {
        "colab": {
          "base_uri": "https://localhost:8080/"
        },
        "id": "zIidVmby95O6",
        "outputId": "3de6ff8d-b025-4afa-b16c-7ee53e689213"
      },
      "execution_count": 15,
      "outputs": [
        {
          "output_type": "stream",
          "name": "stdout",
          "text": [
            "   Col1  Col2  Col3  Col4  Col5\n",
            "0     2     5     1     2     5\n",
            "1     2     6     4     1     4\n",
            "2     1     3     5     2     4\n",
            "3     5     1     6     4     5\n",
            "4     4     2     1     6     2\n",
            "5     4     1     5     4     4\n",
            "6     5     3     1     2     4\n"
          ]
        }
      ]
    },
    {
      "cell_type": "markdown",
      "source": [
        "# 11. Create two different Series, each of length 50, with the following criteria:\n",
        "\n",
        "# a) The first Series should contain random numbers ranging from 10 to 50.\n",
        "\n",
        "# b) The second Series should contain random numbers ranging from 100 to 1000.\n",
        "\n",
        "# c) Create a DataFrame by joining these Series by column, and, change the names of the columns to 'col1', 'col2', etc.\n",
        "\n"
      ],
      "metadata": {
        "id": "PC9Y_vqs-I-T"
      }
    },
    {
      "cell_type": "code",
      "source": [
        "import pandas as pd\n",
        "import numpy as np\n",
        "\n",
        "# a) The first Series should contain random numbers ranging from 10 to 50.\n",
        "series1 = pd.Series(np.random.randint(10, 51, size=50))\n",
        "\n",
        "# b) The second Series should contain random numbers ranging from 100 to 1000.\n",
        "series2 = pd.Series(np.random.randint(100, 1001, size=50))\n",
        "\n",
        "# c) Create a DataFrame by joining these Series by column\n",
        "df = pd.DataFrame({'col1': series1, 'col2': series2})\n",
        "\n",
        "# Display the DataFrame\n",
        "print(df)"
      ],
      "metadata": {
        "colab": {
          "base_uri": "https://localhost:8080/"
        },
        "id": "gLhdP9Xc96C8",
        "outputId": "8638fe2a-c9e6-48bd-903b-9e24883635db"
      },
      "execution_count": 16,
      "outputs": [
        {
          "output_type": "stream",
          "name": "stdout",
          "text": [
            "    col1  col2\n",
            "0     26   362\n",
            "1     42   270\n",
            "2     13   285\n",
            "3     34   200\n",
            "4     34   560\n",
            "5     14   555\n",
            "6     13   290\n",
            "7     38   413\n",
            "8     44   528\n",
            "9     22   242\n",
            "10    34   233\n",
            "11    44   757\n",
            "12    47   984\n",
            "13    33   452\n",
            "14    13   885\n",
            "15    26   772\n",
            "16    23   669\n",
            "17    33   916\n",
            "18    42   550\n",
            "19    12   832\n",
            "20    27   908\n",
            "21    43   594\n",
            "22    46   293\n",
            "23    25   622\n",
            "24    30   754\n",
            "25    25   956\n",
            "26    27   354\n",
            "27    27   629\n",
            "28    46   548\n",
            "29    50   940\n",
            "30    22   176\n",
            "31    27   636\n",
            "32    18   238\n",
            "33    49   661\n",
            "34    30   262\n",
            "35    20   824\n",
            "36    24   704\n",
            "37    32   544\n",
            "38    14   378\n",
            "39    25   260\n",
            "40    49   265\n",
            "41    39   653\n",
            "42    28   579\n",
            "43    35   146\n",
            "44    19   179\n",
            "45    29   255\n",
            "46    42   674\n",
            "47    21   681\n",
            "48    15   983\n",
            "49    42   136\n"
          ]
        }
      ]
    },
    {
      "cell_type": "markdown",
      "source": [
        "# 12. Perform the following operations using people data set:\n",
        "\n",
        "# a) Delete the 'Email', 'Phone', and 'Date of birth' columns from the dataset.\n",
        "\n",
        "# b) Delete the rows containing any missing values.\n",
        "\n",
        "# d) Print the final output also.\n"
      ],
      "metadata": {
        "id": "kGu2SwtO-91V"
      }
    },
    {
      "cell_type": "code",
      "source": [
        "import pandas as pd\n",
        "\n",
        "# Sample DataFrame creation (for demonstration purposes only, replace this with your actual dataset)\n",
        "data = {\n",
        "    'Index': [1, 2, 3],\n",
        "    'First Name': ['Shelia', 'Jo', 'Sheryl'],\n",
        "    'Last Name': ['Mahoney', 'Rivers', 'Lowery'],\n",
        "    'Gender': ['Male', 'Female', 'Female'],\n",
        "    'Email': ['pwarner@example.org', 'fergusonkatherine@example.net', 'fhoward@example.org'],\n",
        "    'Phone': ['857.139.8239', None, '(599)782-0605'],\n",
        "    'Date of birth': ['27-01-2014', '26-07-1931', '25-11-2013'],\n",
        "    'Job Title': ['Probation officer', 'Dancer', 'Copy'],\n",
        "    'Salary': [90000, 80000, 50000]\n",
        "}\n",
        "\n",
        "# Create a DataFrame\n",
        "df = pd.DataFrame(data)\n",
        "\n",
        "# a) Delete the 'Email', 'Phone', and 'Date of birth' columns\n",
        "df.drop(columns=['Email', 'Phone', 'Date of birth'], inplace=True)\n",
        "\n",
        "# b) Delete the rows containing any missing values\n",
        "df.dropna(inplace=True)\n",
        "\n",
        "# d) Print the final output\n",
        "print(df)"
      ],
      "metadata": {
        "colab": {
          "base_uri": "https://localhost:8080/"
        },
        "id": "3CmlZrai-z6C",
        "outputId": "2126bb0a-9e32-46b9-e860-53be8344be61"
      },
      "execution_count": 17,
      "outputs": [
        {
          "output_type": "stream",
          "name": "stdout",
          "text": [
            "   Index First Name Last Name  Gender          Job Title  Salary\n",
            "0      1     Shelia   Mahoney    Male  Probation officer   90000\n",
            "1      2         Jo    Rivers  Female             Dancer   80000\n",
            "2      3     Sheryl    Lowery  Female               Copy   50000\n"
          ]
        }
      ]
    },
    {
      "cell_type": "markdown",
      "source": [
        "# 13 Create two NumPy arrays, x and y, each containing 100 random float values between 0 and 1. Perform the following tasks using Matplotlib and NumPy:\n",
        "\n",
        "# a) Create a scatter plot using x and y, setting the color of the points to red and the marker style to 'o'.\n",
        "\n",
        "# b) Add a horizontal line at y = 0.5 using a dashed line style and label it as 'y = 0.5'.\n",
        "\n",
        "# c) Add a vertical line at x = 0.5 using a dotted line style and label it as 'x = 0.5'.\n",
        "\n",
        "# d) Label the x-axis as 'X-axis' and the y-axis as 'Y-axis'.\n",
        "\n",
        "# e) Set the title of the plot as 'Advanced Scatter Plot of Random Values'.\n",
        "\n",
        "# f) Display a legend for the scatter plot, the horizontal line, and the vertical line."
      ],
      "metadata": {
        "id": "FnIxBz5h_26e"
      }
    },
    {
      "cell_type": "code",
      "source": [
        "import numpy as np\n",
        "import matplotlib.pyplot as plt\n",
        "\n",
        "# Create two NumPy arrays containing 100 random float values between 0 and 1\n",
        "x = np.random.rand(100)\n",
        "y = np.random.rand(100)\n",
        "\n",
        "# a) Create a scatter plot using x and y\n",
        "plt.scatter(x, y, color='red', marker='o', label='Random Points')\n",
        "\n",
        "# b) Add a horizontal line at y = 0.5\n",
        "plt.axhline(y=0.5, linestyle='--', color='blue', label='y = 0.5')\n",
        "\n",
        "# c) Add a vertical line at x = 0.5\n",
        "plt.axvline(x=0.5, linestyle=':', color='green', label='x = 0.5')\n",
        "\n",
        "# d) Label the x-axis and y-axis\n",
        "plt.xlabel('X-axis')\n",
        "plt.ylabel('Y-axis')\n",
        "\n",
        "# e) Set the title of the plot\n",
        "plt.title('Advanced Scatter Plot of Random Values')\n",
        "\n",
        "# f) Display a legend\n",
        "plt.legend()\n",
        "\n",
        "# Show the plot\n",
        "plt.grid()  # Optional: adds a grid for better visualization\n",
        "plt.show()"
      ],
      "metadata": {
        "colab": {
          "base_uri": "https://localhost:8080/",
          "height": 472
        },
        "id": "ltXOoT7D_y9x",
        "outputId": "b8c26799-cb60-43bc-ef9c-1cf41315cbaa"
      },
      "execution_count": 18,
      "outputs": [
        {
          "output_type": "display_data",
          "data": {
            "text/plain": [
              "<Figure size 640x480 with 1 Axes>"
            ],
            "image/png": "[encoded data removed]"
          },
          "metadata": {}
        }
      ]
    },
    {
      "cell_type": "markdown",
      "source": [
        "# 14 Create a time-series dataset in a Pandas DataFrame with columns: 'Date', 'Temperature', 'Humidity' and Perform the following tasks using Matplotlib:\n",
        "\n",
        "# a) Plot the 'Temperature' and 'Humidity' on the same plot with different y-axes (left y-axis for 'Temperature' and right y-axis for 'Humidity').\n",
        "\n",
        "# b) Label the x-axis as 'Date'.\n",
        "\n",
        "# c) Set the title of the plot as 'Temperature and Humidity Over Time'.\n"
      ],
      "metadata": {
        "id": "So4otU11BNRo"
      }
    },
    {
      "cell_type": "code",
      "source": [
        "import pandas as pd\n",
        "import numpy as np\n",
        "import matplotlib.pyplot as plt\n",
        "\n",
        "# Create a date range\n",
        "date_range = pd.date_range(start='2023-01-01', periods=100)\n",
        "\n",
        "# Generate random temperature and humidity data\n",
        "temperature = np.random.uniform(low=15, high=30, size=100)  # Temperature between 15 and 30 degrees Celsius\n",
        "humidity = np.random.uniform(low=30, high=80, size=100)      # Humidity between 30% and 80%\n",
        "\n",
        "# Create a DataFrame\n",
        "df = pd.DataFrame({\n",
        "    'Date': date_range,\n",
        "    'Temperature': temperature,\n",
        "    'Humidity': humidity\n",
        "})\n",
        "\n",
        "# Set the Date column as the index\n",
        "df.set_index('Date', inplace=True)\n",
        "\n",
        "# a) Plot the 'Temperature' and 'Humidity' on the same plot with different y-axes\n",
        "fig, ax1 = plt.subplots()\n",
        "\n",
        "# Plotting Temperature\n",
        "ax1.set_xlabel('Date')\n",
        "ax1.set_ylabel('Temperature (°C)', color='tab:red')\n",
        "ax1.plot(df.index, df['Temperature'], color='tab:red', label='Temperature')\n",
        "ax1.tick_params(axis='y', labelcolor='tab:red')\n",
        "\n",
        "# Creating a second y-axis for Humidity\n",
        "ax2 = ax1.twinx()\n",
        "ax2.set_ylabel('Humidity (%)', color='tab:blue')\n",
        "ax2.plot(df.index, df['Humidity'], color='tab:blue', label='Humidity')\n",
        "ax2.tick_params(axis='y', labelcolor='tab:blue')\n",
        "\n",
        "# b) Label the x-axis as 'Date'\n",
        "ax1.set_xlabel('Date')\n",
        "\n",
        "# c) Set the title of the plot\n",
        "plt.title('Temperature and Humidity Over Time')\n",
        "\n",
        "# Display the plot\n",
        "plt.show()"
      ],
      "metadata": {
        "colab": {
          "base_uri": "https://localhost:8080/",
          "height": 472
        },
        "id": "WKRMH7xLB6UD",
        "outputId": "b0709deb-6fab-457c-eb26-441e6959f3cd"
      },
      "execution_count": 19,
      "outputs": [
        {
          "output_type": "display_data",
          "data": {
            "text/plain": [
              "<Figure size 640x480 with 2 Axes>"
            ],
            "image/png": "[encoded data removed]"
          },
          "metadata": {}
        }
      ]
    },
    {
      "cell_type": "markdown",
      "source": [
        "# 15 Create a NumPy array data containing 1000 samples from a normal distribution. Perform the following tasks using Matplotlib:\n",
        "\n",
        "# a) Plot a histogram of the data with 30 bins.\n",
        "\n",
        "# b) Overlay a line plot representing the normal distribution's probability density function (PDF).\n",
        "\n",
        "# c) Label the x-axis as 'Value' and the y-axis as 'Frequency/Probability'.\n",
        "\n",
        "# d) Set the title of the plot as 'Histogram with PDF Overlay'."
      ],
      "metadata": {
        "id": "b_7QibAyCDXY"
      }
    },
    {
      "cell_type": "code",
      "source": [
        "import numpy as np\n",
        "import matplotlib.pyplot as plt\n",
        "from scipy.stats import norm\n",
        "\n",
        "# Generate 1000 samples from a normal distribution (mean=0, std=1)\n",
        "data = np.random.normal(loc=0, scale=1, size=1000)\n",
        "\n",
        "# a) Plot a histogram of the data with 30 bins\n",
        "plt.hist(data, bins=30, density=True, alpha=0.6, color='g', label='Histogram')\n",
        "\n",
        "# b) Overlay a line plot representing the normal distribution's probability density function (PDF)\n",
        "xmin, xmax = plt.xlim()  # Get the limits of x-axis\n",
        "x = np.linspace(xmin, xmax, 100)  # Generate 100 points between xmin and xmax\n",
        "p = norm.pdf(x, loc=0, scale=1)  # Calculate the PDF for normal distribution\n",
        "plt.plot(x, p, 'k', linewidth=2, label='PDF')\n",
        "\n",
        "# c) Label the x-axis as 'Value' and the y-axis as 'Frequency/Probability'\n",
        "plt.xlabel('Value')\n",
        "plt.ylabel('Frequency/Probability')\n",
        "\n",
        "# d) Set the title of the plot as 'Histogram with PDF Overlay'\n",
        "plt.title('Histogram with PDF Overlay')\n",
        "\n",
        "# Add a legend\n",
        "plt.legend()\n",
        "\n",
        "# Show the plot\n",
        "plt.grid()  # Optional: adds a grid for better visualization\n",
        "plt.show()"
      ],
      "metadata": {
        "colab": {
          "base_uri": "https://localhost:8080/",
          "height": 472
        },
        "id": "vktHURWzBDIF",
        "outputId": "9853327b-9da8-4c6d-af77-be0769a45ee9"
      },
      "execution_count": 20,
      "outputs": [
        {
          "output_type": "display_data",
          "data": {
            "text/plain": [
              "<Figure size 640x480 with 1 Axes>"
            ],
            "image/png": "[encoded data removed]"
          },
          "metadata": {}
        }
      ]
    },
    {
      "cell_type": "markdown",
      "source": [
        "# 16 Set the title of the plot as 'Histogram with PDF Overlay'."
      ],
      "metadata": {
        "id": "1PJi6HI2CtDZ"
      }
    },
    {
      "cell_type": "code",
      "source": [
        "import numpy as np\n",
        "import matplotlib.pyplot as plt\n",
        "from scipy.stats import norm\n",
        "\n",
        "# Generate 1000 samples from a normal distribution (mean=0, std=1)\n",
        "data = np.random.normal(loc=0, scale=1, size=1000)\n",
        "\n",
        "# a) Plot a histogram of the data with 30 bins\n",
        "plt.hist(data, bins=30, density=True, alpha=0.6, color='g', label='Histogram')\n",
        "\n",
        "# b) Overlay a line plot representing the normal distribution's probability density function (PDF)\n",
        "xmin, xmax = plt.xlim()  # Get the limits of x-axis\n",
        "x = np.linspace(xmin, xmax, 100)  # Generate 100 points between xmin and xmax\n",
        "p = norm.pdf(x, loc=0, scale=1)  # Calculate the PDF for normal distribution\n",
        "plt.plot(x, p, 'k', linewidth=2, label='PDF')\n",
        "\n",
        "# c) Label the x-axis as 'Value' and the y-axis as 'Frequency/Probability'\n",
        "plt.xlabel('Value')\n",
        "plt.ylabel('Frequency/Probability')\n",
        "\n",
        "# d) Set the title of the plot as 'Histogram with PDF Overlay'\n",
        "plt.title('Histogram with PDF Overlay')\n",
        "\n",
        "# Add a legend\n",
        "plt.legend()\n",
        "\n",
        "# Show the plot\n",
        "plt.grid()  # Optional: adds a grid for better visualization\n",
        "plt.show()"
      ],
      "metadata": {
        "colab": {
          "base_uri": "https://localhost:8080/",
          "height": 472
        },
        "id": "Vx0I54WYCl1Q",
        "outputId": "caf8bad4-dc18-47e1-ece8-91f09d43cd4c"
      },
      "execution_count": 21,
      "outputs": [
        {
          "output_type": "display_data",
          "data": {
            "text/plain": [
              "<Figure size 640x480 with 1 Axes>"
            ],
            "image/png": "[encoded data removed]"
          },
          "metadata": {}
        }
      ]
    },
    {
      "cell_type": "markdown",
      "source": [
        "# 17 Create a Seaborn scatter plot of two random arrays, color points based on their position relative to the origin (quadrants), add a legend, label the axes, and set the title as 'Quadrant-wise Scatter Plot'."
      ],
      "metadata": {
        "id": "86xEeMQLDIzA"
      }
    },
    {
      "cell_type": "code",
      "source": [
        "import numpy as np\n",
        "import pandas as pd\n",
        "import seaborn as sns\n",
        "import matplotlib.pyplot as plt\n",
        "\n",
        "# Set the random seed for reproducibility\n",
        "np.random.seed(0)\n",
        "\n",
        "# Generate two random arrays\n",
        "x = np.random.uniform(-10, 10, 100)  # 100 random x-coordinates\n",
        "y = np.random.uniform(-10, 10, 100)  # 100 random y-coordinates\n",
        "\n",
        "# Create a DataFrame\n",
        "data = pd.DataFrame({'X': x, 'Y': y})\n",
        "\n",
        "# Determine quadrants\n",
        "data['Quadrant'] = np.where((data['X'] &gt;= 0) &amp; (data['Y'] &gt;= 0), 'Quadrant I',\n",
        "                     np.where((data['X'] &lt; 0) &amp; (data['Y'] &gt;= 0), 'Quadrant II',\n",
        "                     np.where((data['X'] &lt; 0) &amp; (data['Y'] &lt; 0), 'Quadrant III',\n",
        "                     'Quadrant IV'))))\n",
        "\n",
        "# Create a scatter plot with Seaborn\n",
        "plt.figure(figsize=(10, 6))\n",
        "sns.scatterplot(data=data, x='X', y='Y', hue='Quadrant', palette='Set1', style='Quadrant', markers=['o', 's', 'D', '^'])\n",
        "\n",
        "# Label the axes\n",
        "plt.xlabel('X Axis')\n",
        "plt.ylabel('Y Axis')\n",
        "\n",
        "# Set the title of the plot\n",
        "plt.title('Quadrant-wise Scatter Plot')\n",
        "\n",
        "# Add legend\n",
        "plt.legend(title='Quadrants')\n",
        "\n",
        "# Show the plot\n",
        "plt.grid()\n",
        "plt.axhline(0, color='grey', lw=0.7, ls='--')  # Add x-axis line\n",
        "plt.axvline(0, color='grey', lw=0.7, ls='--')  # Add y-axis line\n",
        "plt.show()"
      ],
      "metadata": {
        "id": "kZ5gT-1GDCXG"
      },
      "execution_count": 23,
      "outputs": []
    },
    {
      "cell_type": "markdown",
      "source": [
        "# 18 With Bokeh, plot a line chart of a sine wave function, add grid lines, label the axes, and set the title as 'Sine Wave Function'."
      ],
      "metadata": {
        "id": "NkdQuMTPDucI"
      }
    },
    {
      "cell_type": "code",
      "source": [
        "from bokeh.plotting import figure, show\n",
        "from bokeh.io import output_notebook\n",
        "import numpy as np\n",
        "\n",
        "# Use this line if you are running the code in a Jupyter Notebook\n",
        "output_notebook()\n",
        "\n",
        "# Generate data for the sine wave\n",
        "x = np.linspace(0, 2 * np.pi, 100)  # X values from 0 to 2π\n",
        "y = np.sin(x)  # Y values as the sine of X values\n",
        "\n",
        "# Create a new figure for the plot\n",
        "p = figure(title='Sine Wave Function', x_axis_label='X values', y_axis_label='Sine of X values')\n",
        "\n",
        "# Add a line renderer with legend and line thickness\n",
        "p.line(x, y, legend_label='Sine Wave', line_width=2, color='blue')\n",
        "\n",
        "# Add grid lines\n",
        "p.grid.grid_line_color = 'grey'  # Set grid line color\n",
        "p.grid.grid_line_alpha = 0.5  # Set transparency of grid lines\n",
        "\n",
        "# Show the plot\n",
        "show(p)"
      ],
      "metadata": {
        "colab": {
          "base_uri": "https://localhost:8080/",
          "height": 617
        },
        "id": "KScWft0zESm4",
        "outputId": "d422c280-1691-4753-e25d-f5f93d77eede"
      },
      "execution_count": 24,
      "outputs": [
        {
          "output_type": "display_data",
          "data": {
            "application/javascript": [
              "'use strict';\n",
              "(function(root) {\n",
              "  function now() {\n",
              "    return new Date();\n",
              "  }\n",
              "\n",
              "  const force = true;\n",
              "\n",
              "  if (typeof root._bokeh_onload_callbacks === \"undefined\" || force === true) {\n",
              "    root._bokeh_onload_callbacks = [];\n",
              "    root._bokeh_is_loading = undefined;\n",
              "  }\n",
              "\n",
              "const JS_MIME_TYPE = 'application/javascript';\n",
              "  const HTML_MIME_TYPE = 'text/html';\n",
              "  const EXEC_MIME_TYPE = 'application/vnd.bokehjs_exec.v0+json';\n",
              "  const CLASS_NAME = 'output_bokeh rendered_html';\n",
              "\n",
              "  /**\n",
              "   * Render data to the DOM node\n",
              "   */\n",
              "  function render(props, node) {\n",
              "    const script = document.createElement(\"script\");\n",
              "    node.appendChild(script);\n",
              "  }\n",
              "\n",
              "  /**\n",
              "   * Handle when an output is cleared or removed\n",
              "   */\n",
              "  function handleClearOutput(event, handle) {\n",
              "    function drop(id) {\n",
              "      const view = Bokeh.index.get_by_id(id)\n",
              "      if (view != null) {\n",
              "        view.model.document.clear()\n",
              "        Bokeh.index.delete(view)\n",
              "      }\n",
              "    }\n",
              "\n",
              "    const cell = handle.cell;\n",
              "\n",
              "    const id = cell.output_area._bokeh_element_id;\n",
              "    const server_id = cell.output_area._bokeh_server_id;\n",
              "\n",
              "    // Clean up Bokeh references\n",
              "    if (id != null) {\n",
              "      drop(id)\n",
              "    }\n",
              "\n",
              "    if (server_id !== undefined) {\n",
              "      // Clean up Bokeh references\n",
              "      const cmd_clean = \"from bokeh.io.state import curstate; print(curstate().uuid_to_server['\" + server_id + \"'].get_sessions()[0].document.roots[0]._id)\";\n",
              "      cell.notebook.kernel.execute(cmd_clean, {\n",
              "        iopub: {\n",
              "          output: function(msg) {\n",
              "            const id = msg.content.text.trim()\n",
              "            drop(id)\n",
              "          }\n",
              "        }\n",
              "      });\n",
              "      // Destroy server and session\n",
              "      const cmd_destroy = \"import bokeh.io.notebook as ion; ion.destroy_server('\" + server_id + \"')\";\n",
              "      cell.notebook.kernel.execute(cmd_destroy);\n",
              "    }\n",
              "  }\n",
              "\n",
              "  /**\n",
              "   * Handle when a new output is added\n",
              "   */\n",
              "  function handleAddOutput(event, handle) {\n",
              "    const output_area = handle.output_area;\n",
              "    const output = handle.output;\n",
              "\n",
              "    // limit handleAddOutput to display_data with EXEC_MIME_TYPE content only\n",
              "    if ((output.output_type != \"display_data\") || (!Object.prototype.hasOwnProperty.call(output.data, EXEC_MIME_TYPE))) {\n",
              "      return\n",
              "    }\n",
              "\n",
              "    const toinsert = output_area.element.find(\".\" + CLASS_NAME.split(' ')[0]);\n",
              "\n",
              "    if (output.metadata[EXEC_MIME_TYPE][\"id\"] !== undefined) {\n",
              "      toinsert[toinsert.length - 1].firstChild.textContent = output.data[JS_MIME_TYPE];\n",
              "      // store reference to embed id on output_area\n",
              "      output_area._bokeh_element_id = output.metadata[EXEC_MIME_TYPE][\"id\"];\n",
              "    }\n",
              "    if (output.metadata[EXEC_MIME_TYPE][\"server_id\"] !== undefined) {\n",
              "      const bk_div = document.createElement(\"div\");\n",
              "      bk_div.innerHTML = output.data[HTML_MIME_TYPE];\n",
              "      const script_attrs = bk_div.children[0].attributes;\n",
              "      for (let i = 0; i < script_attrs.length; i++) {\n",
              "        toinsert[toinsert.length - 1].firstChild.setAttribute(script_attrs[i].name, script_attrs[i].value);\n",
              "        toinsert[toinsert.length - 1].firstChild.textContent = bk_div.children[0].textContent\n",
              "      }\n",
              "      // store reference to server id on output_area\n",
              "      output_area._bokeh_server_id = output.metadata[EXEC_MIME_TYPE][\"server_id\"];\n",
              "    }\n",
              "  }\n",
              "\n",
              "  function register_renderer(events, OutputArea) {\n",
              "\n",
              "    function append_mime(data, metadata, element) {\n",
              "      // create a DOM node to render to\n",
              "      const toinsert = this.create_output_subarea(\n",
              "        metadata,\n",
              "        CLASS_NAME,\n",
              "        EXEC_MIME_TYPE\n",
              "      );\n",
              "      this.keyboard_manager.register_events(toinsert);\n",
              "      // Render to node\n",
              "      const props = {data: data, metadata: metadata[EXEC_MIME_TYPE]};\n",
              "      render(props, toinsert[toinsert.length - 1]);\n",
              "      element.append(toinsert);\n",
              "      return toinsert\n",
              "    }\n",
              "\n",
              "    /* Handle when an output is cleared or removed */\n",
              "    events.on('clear_output.CodeCell', handleClearOutput);\n",
              "    events.on('delete.Cell', handleClearOutput);\n",
              "\n",
              "    /* Handle when a new output is added */\n",
              "    events.on('output_added.OutputArea', handleAddOutput);\n",
              "\n",
              "    /**\n",
              "     * Register the mime type and append_mime function with output_area\n",
              "     */\n",
              "    OutputArea.prototype.register_mime_type(EXEC_MIME_TYPE, append_mime, {\n",
              "      /* Is output safe? */\n",
              "      safe: true,\n",
              "      /* Index of renderer in `output_area.display_order` */\n",
              "      index: 0\n",
              "    });\n",
              "  }\n",
              "\n",
              "  // register the mime type if in Jupyter Notebook environment and previously unregistered\n",
              "  if (root.Jupyter !== undefined) {\n",
              "    const events = require('base/js/events');\n",
              "    const OutputArea = require('notebook/js/outputarea').OutputArea;\n",
              "\n",
              "    if (OutputArea.prototype.mime_types().indexOf(EXEC_MIME_TYPE) == -1) {\n",
              "      register_renderer(events, OutputArea);\n",
              "    }\n",
              "  }\n",
              "  if (typeof (root._bokeh_timeout) === \"undefined\" || force === true) {\n",
              "    root._bokeh_timeout = Date.now() + 5000;\n",
              "    root._bokeh_failed_load = false;\n",
              "  }\n",
              "\n",
              "  const NB_LOAD_WARNING = {'data': {'text/html':\n",
              "     \"<div style='background-color: #fdd'>\\n\"+\n",
              "     \"<p>\\n\"+\n",
              "     \"BokehJS does not appear to have successfully loaded. If loading BokehJS from CDN, this \\n\"+\n",
              "     \"may be due to a slow or bad network connection. Possible fixes:\\n\"+\n",
              "     \"</p>\\n\"+\n",
              "     \"<ul>\\n\"+\n",
              "     \"<li>re-rerun `output_notebook()` to attempt to load from CDN again, or</li>\\n\"+\n",
              "     \"<li>use INLINE resources instead, as so:</li>\\n\"+\n",
              "     \"</ul>\\n\"+\n",
              "     \"<code>\\n\"+\n",
              "     \"from bokeh.resources import INLINE\\n\"+\n",
              "     \"output_notebook(resources=INLINE)\\n\"+\n",
              "     \"</code>\\n\"+\n",
              "     \"</div>\"}};\n",
              "\n",
              "  function display_loaded(error = null) {\n",
              "    const el = document.getElementById(null);\n",
              "    if (el != null) {\n",
              "      const html = (() => {\n",
              "        if (typeof root.Bokeh === \"undefined\") {\n",
              "          if (error == null) {\n",
              "            return \"BokehJS is loading ...\";\n",
              "          } else {\n",
              "            return \"BokehJS failed to load.\";\n",
              "          }\n",
              "        } else {\n",
              "          const prefix = `BokehJS ${root.Bokeh.version}`;\n",
              "          if (error == null) {\n",
              "            return `${prefix} successfully loaded.`;\n",
              "          } else {\n",
              "            return `${prefix} <b>encountered errors</b> while loading and may not function as expected.`;\n",
              "          }\n",
              "        }\n",
              "      })();\n",
              "      el.innerHTML = html;\n",
              "\n",
              "      if (error != null) {\n",
              "        const wrapper = document.createElement(\"div\");\n",
              "        wrapper.style.overflow = \"auto\";\n",
              "        wrapper.style.height = \"5em\";\n",
              "        wrapper.style.resize = \"vertical\";\n",
              "        const content = document.createElement(\"div\");\n",
              "        content.style.fontFamily = \"monospace\";\n",
              "        content.style.whiteSpace = \"pre-wrap\";\n",
              "        content.style.backgroundColor = \"rgb(255, 221, 221)\";\n",
              "        content.textContent = error.stack ?? error.toString();\n",
              "        wrapper.append(content);\n",
              "        el.append(wrapper);\n",
              "      }\n",
              "    } else if (Date.now() < root._bokeh_timeout) {\n",
              "      setTimeout(() => display_loaded(error), 100);\n",
              "    }\n",
              "  }\n",
              "\n",
              "  function run_callbacks() {\n",
              "    try {\n",
              "      root._bokeh_onload_callbacks.forEach(function(callback) {\n",
              "        if (callback != null)\n",
              "          callback();\n",
              "      });\n",
              "    } finally {\n",
              "      delete root._bokeh_onload_callbacks\n",
              "    }\n",
              "    console.debug(\"Bokeh: all callbacks have finished\");\n",
              "  }\n",
              "\n",
              "  function load_libs(css_urls, js_urls, callback) {\n",
              "    if (css_urls == null) css_urls = [];\n",
              "    if (js_urls == null) js_urls = [];\n",
              "\n",
              "    root._bokeh_onload_callbacks.push(callback);\n",
              "    if (root._bokeh_is_loading > 0) {\n",
              "      console.debug(\"Bokeh: BokehJS is being loaded, scheduling callback at\", now());\n",
              "      return null;\n",
              "    }\n",
              "    if (js_urls == null || js_urls.length === 0) {\n",
              "      run_callbacks();\n",
              "      return null;\n",
              "    }\n",
              "    console.debug(\"Bokeh: BokehJS not loaded, scheduling load and callback at\", now());\n",
              "    root._bokeh_is_loading = css_urls.length + js_urls.length;\n",
              "\n",
              "    function on_load() {\n",
              "      root._bokeh_is_loading--;\n",
              "      if (root._bokeh_is_loading === 0) {\n",
              "        console.debug(\"Bokeh: all BokehJS libraries/stylesheets loaded\");\n",
              "        run_callbacks()\n",
              "      }\n",
              "    }\n",
              "\n",
              "    function on_error(url) {\n",
              "      console.error(\"failed to load \" + url);\n",
              "    }\n",
              "\n",
              "    for (let i = 0; i < css_urls.length; i++) {\n",
              "      const url = css_urls[i];\n",
              "      const element = document.createElement(\"link\");\n",
              "      element.onload = on_load;\n",
              "      element.onerror = on_error.bind(null, url);\n",
              "      element.rel = \"stylesheet\";\n",
              "      element.type = \"text/css\";\n",
              "      element.href = url;\n",
              "      console.debug(\"Bokeh: injecting link tag for BokehJS stylesheet: \", url);\n",
              "      document.body.appendChild(element);\n",
              "    }\n",
              "\n",
              "    for (let i = 0; i < js_urls.length; i++) {\n",
              "      const url = js_urls[i];\n",
              "      const element = document.createElement('script');\n",
              "      element.onload = on_load;\n",
              "      element.onerror = on_error.bind(null, url);\n",
              "      element.async = false;\n",
              "      element.src = url;\n",
              "      console.debug(\"Bokeh: injecting script tag for BokehJS library: \", url);\n",
              "      document.head.appendChild(element);\n",
              "    }\n",
              "  };\n",
              "\n",
              "  function inject_raw_css(css) {\n",
              "    const element = document.createElement(\"style\");\n",
              "    element.appendChild(document.createTextNode(css));\n",
              "    document.body.appendChild(element);\n",
              "  }\n",
              "\n",
              "  const js_urls = [\"https://cdn.bokeh.org/bokeh/release/bokeh-3.4.3.min.js\", \"https://cdn.bokeh.org/bokeh/release/bokeh-gl-3.4.3.min.js\", \"https://cdn.bokeh.org/bokeh/release/bokeh-widgets-3.4.3.min.js\", \"https://cdn.bokeh.org/bokeh/release/bokeh-tables-3.4.3.min.js\", \"https://cdn.bokeh.org/bokeh/release/bokeh-mathjax-3.4.3.min.js\"];\n",
              "  const css_urls = [];\n",
              "\n",
              "  const inline_js = [    function(Bokeh) {\n",
              "      Bokeh.set_log_level(\"info\");\n",
              "    },\n",
              "function(Bokeh) {\n",
              "    }\n",
              "  ];\n",
              "\n",
              "  function run_inline_js() {\n",
              "    if (root.Bokeh !== undefined || force === true) {\n",
              "      try {\n",
              "            for (let i = 0; i < inline_js.length; i++) {\n",
              "      inline_js[i].call(root, root.Bokeh);\n",
              "    }\n",
              "\n",
              "      } catch (error) {throw error;\n",
              "      }} else if (Date.now() < root._bokeh_timeout) {\n",
              "      setTimeout(run_inline_js, 100);\n",
              "    } else if (!root._bokeh_failed_load) {\n",
              "      console.log(\"Bokeh: BokehJS failed to load within specified timeout.\");\n",
              "      root._bokeh_failed_load = true;\n",
              "    } else if (force !== true) {\n",
              "      const cell = $(document.getElementById(null)).parents('.cell').data().cell;\n",
              "      cell.output_area.append_execute_result(NB_LOAD_WARNING)\n",
              "    }\n",
              "  }\n",
              "\n",
              "  if (root._bokeh_is_loading === 0) {\n",
              "    console.debug(\"Bokeh: BokehJS loaded, going straight to plotting\");\n",
              "    run_inline_js();\n",
              "  } else {\n",
              "    load_libs(css_urls, js_urls, function() {\n",
              "      console.debug(\"Bokeh: BokehJS plotting callback run at\", now());\n",
              "      run_inline_js();\n",
              "    });\n",
              "  }\n",
              "}(window));"
            ],
            "application/vnd.bokehjs_load.v0+json": "'use strict';\n(function(root) {\n  function now() {\n    return new Date();\n  }\n\n  const force = true;\n\n  if (typeof root._bokeh_onload_callbacks === \"undefined\" || force === true) {\n    root._bokeh_onload_callbacks = [];\n    root._bokeh_is_loading = undefined;\n  }\n\n\n  if (typeof (root._bokeh_timeout) === \"undefined\" || force === true) {\n    root._bokeh_timeout = Date.now() + 5000;\n    root._bokeh_failed_load = false;\n  }\n\n  const NB_LOAD_WARNING = {'data': {'text/html':\n     \"<div style='background-color: #fdd'>\\n\"+\n     \"<p>\\n\"+\n     \"BokehJS does not appear to have successfully loaded. If loading BokehJS from CDN, this \\n\"+\n     \"may be due to a slow or bad network connection. Possible fixes:\\n\"+\n     \"</p>\\n\"+\n     \"<ul>\\n\"+\n     \"<li>re-rerun `output_notebook()` to attempt to load from CDN again, or</li>\\n\"+\n     \"<li>use INLINE resources instead, as so:</li>\\n\"+\n     \"</ul>\\n\"+\n     \"<code>\\n\"+\n     \"from bokeh.resources import INLINE\\n\"+\n     \"output_notebook(resources=INLINE)\\n\"+\n     \"</code>\\n\"+\n     \"</div>\"}};\n\n  function display_loaded(error = null) {\n    const el = document.getElementById(null);\n    if (el != null) {\n      const html = (() => {\n        if (typeof root.Bokeh === \"undefined\") {\n          if (error == null) {\n            return \"BokehJS is loading ...\";\n          } else {\n            return \"BokehJS failed to load.\";\n          }\n        } else {\n          const prefix = `BokehJS ${root.Bokeh.version}`;\n          if (error == null) {\n            return `${prefix} successfully loaded.`;\n          } else {\n            return `${prefix} <b>encountered errors</b> while loading and may not function as expected.`;\n          }\n        }\n      })();\n      el.innerHTML = html;\n\n      if (error != null) {\n        const wrapper = document.createElement(\"div\");\n        wrapper.style.overflow = \"auto\";\n        wrapper.style.height = \"5em\";\n        wrapper.style.resize = \"vertical\";\n        const content = document.createElement(\"div\");\n        content.style.fontFamily = \"monospace\";\n        content.style.whiteSpace = \"pre-wrap\";\n        content.style.backgroundColor = \"rgb(255, 221, 221)\";\n        content.textContent = error.stack ?? error.toString();\n        wrapper.append(content);\n        el.append(wrapper);\n      }\n    } else if (Date.now() < root._bokeh_timeout) {\n      setTimeout(() => display_loaded(error), 100);\n    }\n  }\n\n  function run_callbacks() {\n    try {\n      root._bokeh_onload_callbacks.forEach(function(callback) {\n        if (callback != null)\n          callback();\n      });\n    } finally {\n      delete root._bokeh_onload_callbacks\n    }\n    console.debug(\"Bokeh: all callbacks have finished\");\n  }\n\n  function load_libs(css_urls, js_urls, callback) {\n    if (css_urls == null) css_urls = [];\n    if (js_urls == null) js_urls = [];\n\n    root._bokeh_onload_callbacks.push(callback);\n    if (root._bokeh_is_loading > 0) {\n      console.debug(\"Bokeh: BokehJS is being loaded, scheduling callback at\", now());\n      return null;\n    }\n    if (js_urls == null || js_urls.length === 0) {\n      run_callbacks();\n      return null;\n    }\n    console.debug(\"Bokeh: BokehJS not loaded, scheduling load and callback at\", now());\n    root._bokeh_is_loading = css_urls.length + js_urls.length;\n\n    function on_load() {\n      root._bokeh_is_loading--;\n      if (root._bokeh_is_loading === 0) {\n        console.debug(\"Bokeh: all BokehJS libraries/stylesheets loaded\");\n        run_callbacks()\n      }\n    }\n\n    function on_error(url) {\n      console.error(\"failed to load \" + url);\n    }\n\n    for (let i = 0; i < css_urls.length; i++) {\n      const url = css_urls[i];\n      const element = document.createElement(\"link\");\n      element.onload = on_load;\n      element.onerror = on_error.bind(null, url);\n      element.rel = \"stylesheet\";\n      element.type = \"text/css\";\n      element.href = url;\n      console.debug(\"Bokeh: injecting link tag for BokehJS stylesheet: \", url);\n      document.body.appendChild(element);\n    }\n\n    for (let i = 0; i < js_urls.length; i++) {\n      const url = js_urls[i];\n      const element = document.createElement('script');\n      element.onload = on_load;\n      element.onerror = on_error.bind(null, url);\n      element.async = false;\n      element.src = url;\n      console.debug(\"Bokeh: injecting script tag for BokehJS library: \", url);\n      document.head.appendChild(element);\n    }\n  };\n\n  function inject_raw_css(css) {\n    const element = document.createElement(\"style\");\n    element.appendChild(document.createTextNode(css));\n    document.body.appendChild(element);\n  }\n\n  const js_urls = [\"https://cdn.bokeh.org/bokeh/release/bokeh-3.4.3.min.js\", \"https://cdn.bokeh.org/bokeh/release/bokeh-gl-3.4.3.min.js\", \"https://cdn.bokeh.org/bokeh/release/bokeh-widgets-3.4.3.min.js\", \"https://cdn.bokeh.org/bokeh/release/bokeh-tables-3.4.3.min.js\", \"https://cdn.bokeh.org/bokeh/release/bokeh-mathjax-3.4.3.min.js\"];\n  const css_urls = [];\n\n  const inline_js = [    function(Bokeh) {\n      Bokeh.set_log_level(\"info\");\n    },\nfunction(Bokeh) {\n    }\n  ];\n\n  function run_inline_js() {\n    if (root.Bokeh !== undefined || force === true) {\n      try {\n            for (let i = 0; i < inline_js.length; i++) {\n      inline_js[i].call(root, root.Bokeh);\n    }\n\n      } catch (error) {throw error;\n      }} else if (Date.now() < root._bokeh_timeout) {\n      setTimeout(run_inline_js, 100);\n    } else if (!root._bokeh_failed_load) {\n      console.log(\"Bokeh: BokehJS failed to load within specified timeout.\");\n      root._bokeh_failed_load = true;\n    } else if (force !== true) {\n      const cell = $(document.getElementById(null)).parents('.cell').data().cell;\n      cell.output_area.append_execute_result(NB_LOAD_WARNING)\n    }\n  }\n\n  if (root._bokeh_is_loading === 0) {\n    console.debug(\"Bokeh: BokehJS loaded, going straight to plotting\");\n    run_inline_js();\n  } else {\n    load_libs(css_urls, js_urls, function() {\n      console.debug(\"Bokeh: BokehJS plotting callback run at\", now());\n      run_inline_js();\n    });\n  }\n}(window));"
          },
          "metadata": {}
        },
        {
          "output_type": "display_data",
          "data": {
            "text/html": [
              "\n",
              "  <div id=\"b02956db-1459-4a44-992c-76327feee85a\" data-root-id=\"p1001\" style=\"display: contents;\"></div>\n"
            ]
          },
          "metadata": {}
        },
        {
          "output_type": "display_data",
          "data": {
            "application/javascript": [
              "(function(root) {\n",
              "  function embed_document(root) {\n",
              "  const docs_json = {\"5e7434a8-0add-41e4-89e8-98112930447f\":{\"version\":\"3.4.3\",\"title\":\"Bokeh Application\",\"roots\":[{\"type\":\"object\",\"name\":\"Figure\",\"id\":\"p1001\",\"attributes\":{\"x_range\":{\"type\":\"object\",\"name\":\"DataRange1d\",\"id\":\"p1002\"},\"y_range\":{\"type\":\"object\",\"name\":\"DataRange1d\",\"id\":\"p1003\"},\"x_scale\":{\"type\":\"object\",\"name\":\"LinearScale\",\"id\":\"p1011\"},\"y_scale\":{\"type\":\"object\",\"name\":\"LinearScale\",\"id\":\"p1012\"},\"title\":{\"type\":\"object\",\"name\":\"Title\",\"id\":\"p1004\",\"attributes\":{\"text\":\"Sine Wave Function\"}},\"renderers\":[{\"type\":\"object\",\"name\":\"GlyphRenderer\",\"id\":\"p1040\",\"attributes\":{\"data_source\":{\"type\":\"object\",\"name\":\"ColumnDataSource\",\"id\":\"p1034\",\"attributes\":{\"selected\":{\"type\":\"object\",\"name\":\"Selection\",\"id\":\"p1035\",\"attributes\":{\"indices\":[],\"line_indices\":[]}},\"selection_policy\":{\"type\":\"object\",\"name\":\"UnionRenderers\",\"id\":\"p1036\"},\"data\":{\"type\":\"map\",\"entries\":[[\"x\",{\"type\":\"ndarray\",\"array\":{\"type\":\"bytes\",\"data\":\"AAAAAAAAAACRGkt8Vz+wP5EaS3xXP8A/2qdwOgNfyD+RGkt8Vz/QPzXhXVstT9Q/2qdwOgNf2D9+boMZ2W7cP5EaS3xXP+A/433Ua0JH4j814V1bLU/kP4dE50oYV+Y/2qdwOgNf6D8sC/op7mbqP35ugxnZbuw/0NEMCcR27j+RGkt8Vz/wPzrMD/RMQ/E/433Ua0JH8j+ML5njN0vzPzXhXVstT/Q/3pIi0yJT9T+HROdKGFf2PzD2q8INW/c/2qdwOgNf+D+DWTWy+GL5PywL+inuZvo/1by+oeNq+z9+boMZ2W78PycgSJHOcv0/0NEMCcR2/j95g9GAuXr/P5EaS3xXPwBAZnMtOFLBAEA6zA/0TEMBQA8l8q9HxQFA433Ua0JHAkC41rYnPckCQIwvmeM3SwNAYYh7nzLNA0A14V1bLU8EQAo6QBco0QRA3pIi0yJTBUCz6wSPHdUFQIdE50oYVwZAXJ3JBhPZBkAw9qvCDVsHQAVPjn4I3QdA2qdwOgNfCECuAFP2/eAIQINZNbL4YglAV7IXbvPkCUAsC/op7mYKQABk3OXo6ApA1by+oeNqC0CpFaFd3uwLQH5ugxnZbgxAUsdl1dPwDEAnIEiRznINQPt4Kk3J9A1A0NEMCcR2DkCkKu/EvvgOQHmD0YC5eg9ATdyzPLT8D0CRGkt8Vz8QQPtGPNpUgBBAZnMtOFLBEEDQnx6WTwIRQDrMD/RMQxFApPgAUkqEEUAPJfKvR8URQHlR4w1FBhJA433Ua0JHEkBNqsXJP4gSQLjWtic9yRJAIgOohToKE0CML5njN0sTQPZbikE1jBNAYYh7nzLNE0DLtGz9Lw4UQDXhXVstTxRAoA1PuSqQFEAKOkAXKNEUQHRmMXUlEhVA3pIi0yJTFUBJvxMxIJQVQLPrBI8d1RVAHRj27BoWFkCHROdKGFcWQPJw2KgVmBZAXJ3JBhPZFkDGybpkEBoXQDD2q8INWxdAmyKdIAucF0AFT45+CN0XQG97f9wFHhhA2qdwOgNfGEBE1GGYAKAYQK4AU/b94BhAGC1EVPshGUA=\"},\"shape\":[100],\"dtype\":\"float64\",\"order\":\"little\"}],[\"y\",{\"type\":\"ndarray\",\"array\":{\"type\":\"bytes\",\"data\":\"AAAAAAAAAAADhrXMjDywP/CDAnguNMA/kayggGI5yD+aiNkBzxLQP9ofIiFb+NM/+5MNU1HJ1z+CQNqEwoHbPxlNPurYHd8/C1i7+O1M4T9GhZoMGvniPxwWPFK3keQ/ABg/lCAV5j+GGZN4xoHnP4hAIRwx1ug/lkFFlgER6j93zoZi8zDrPzKcHq/dNOw/EyzujrQb7T/B8a4NiuTtP/0jPCWPju4/3176khQZ7z8XHIGMi4PvPzTGy1KGze8/g6xao7j27z/vOc8G+P7vP2Zmsvw75u8/70I4BJ6s7z+/l/eBWVLvPwOssILL1+4/xVNiW3I97j+TIxAn7YPtP1EHwCL7q+w/qUxY6Hq26z+RVimJaaTqP5aCD4nhduk/oSg6uxkv6D+158MBZM7mP9OHZvErVuU/8XixWvXH4z8mRkW6WiXiP2ITsJELcOA/8qg+VZVT3T/agWKM2KjZP/gLinSo49U/v412/ecH0j/lKaSyIjPMP+bENsZjOcQ/3FNHxZdVuD+s23zJpD6gP8nbfMmkPqC/6lNHxZdVuL/txDbGYznEv9wppLIiM8y/wo12/ecH0r/0C4p0qOPVv92BYozYqNm/7qg+VZVT3b9jE7CRC3DgvyRGRbpaJeK/83ixWvXH47/Rh2bxK1blv7fnwwFkzua/oCg6uxkv6L+Xgg+J4Xbpv5BWKYlppOq/rExY6Hq2679SB8Ai+6vsv5MjECftg+2/xFNiW3I97r8ErLCCy9fuv7+X94FZUu+/70I4BJ6s779lZrL8O+bvv+85zwb4/u+/g6xao7j27780xstShs3vvxgcgYyLg++/3176khQZ77/9Izwlj47uv8Lxrg2K5O2/EizujrQb7b8xnB6v3TTsv3fOhmLzMOu/l0FFlgER6r+GQCEcMdbov4UZk3jGgee/ABg/lCAV5r8fFjxSt5Hkv0SFmgwa+eK/Cli7+O1M4b8bTT7q2B3fv4dA2oTCgdu/9ZMNU1HJ17/ZHyIhW/jTv52I2QHPEtC/gKyggGI5yL/ogwJ4LjTAvwSGtcyMPLC/B1wUMyamsbw=\"},\"shape\":[100],\"dtype\":\"float64\",\"order\":\"little\"}]]}}},\"view\":{\"type\":\"object\",\"name\":\"CDSView\",\"id\":\"p1041\",\"attributes\":{\"filter\":{\"type\":\"object\",\"name\":\"AllIndices\",\"id\":\"p1042\"}}},\"glyph\":{\"type\":\"object\",\"name\":\"Line\",\"id\":\"p1037\",\"attributes\":{\"x\":{\"type\":\"field\",\"field\":\"x\"},\"y\":{\"type\":\"field\",\"field\":\"y\"},\"line_color\":\"blue\",\"line_width\":2}},\"nonselection_glyph\":{\"type\":\"object\",\"name\":\"Line\",\"id\":\"p1038\",\"attributes\":{\"x\":{\"type\":\"field\",\"field\":\"x\"},\"y\":{\"type\":\"field\",\"field\":\"y\"},\"line_color\":\"blue\",\"line_alpha\":0.1,\"line_width\":2}},\"muted_glyph\":{\"type\":\"object\",\"name\":\"Line\",\"id\":\"p1039\",\"attributes\":{\"x\":{\"type\":\"field\",\"field\":\"x\"},\"y\":{\"type\":\"field\",\"field\":\"y\"},\"line_color\":\"blue\",\"line_alpha\":0.2,\"line_width\":2}}}}],\"toolbar\":{\"type\":\"object\",\"name\":\"Toolbar\",\"id\":\"p1010\",\"attributes\":{\"tools\":[{\"type\":\"object\",\"name\":\"PanTool\",\"id\":\"p1023\"},{\"type\":\"object\",\"name\":\"WheelZoomTool\",\"id\":\"p1024\",\"attributes\":{\"renderers\":\"auto\"}},{\"type\":\"object\",\"name\":\"BoxZoomTool\",\"id\":\"p1025\",\"attributes\":{\"overlay\":{\"type\":\"object\",\"name\":\"BoxAnnotation\",\"id\":\"p1026\",\"attributes\":{\"syncable\":false,\"level\":\"overlay\",\"visible\":false,\"left\":{\"type\":\"number\",\"value\":\"nan\"},\"right\":{\"type\":\"number\",\"value\":\"nan\"},\"top\":{\"type\":\"number\",\"value\":\"nan\"},\"bottom\":{\"type\":\"number\",\"value\":\"nan\"},\"left_units\":\"canvas\",\"right_units\":\"canvas\",\"top_units\":\"canvas\",\"bottom_units\":\"canvas\",\"line_color\":\"black\",\"line_alpha\":1.0,\"line_width\":2,\"line_dash\":[4,4],\"fill_color\":\"lightgrey\",\"fill_alpha\":0.5}}}},{\"type\":\"object\",\"name\":\"SaveTool\",\"id\":\"p1031\"},{\"type\":\"object\",\"name\":\"ResetTool\",\"id\":\"p1032\"},{\"type\":\"object\",\"name\":\"HelpTool\",\"id\":\"p1033\"}]}},\"left\":[{\"type\":\"object\",\"name\":\"LinearAxis\",\"id\":\"p1018\",\"attributes\":{\"ticker\":{\"type\":\"object\",\"name\":\"BasicTicker\",\"id\":\"p1019\",\"attributes\":{\"mantissas\":[1,2,5]}},\"formatter\":{\"type\":\"object\",\"name\":\"BasicTickFormatter\",\"id\":\"p1020\"},\"axis_label\":\"Sine of X values\",\"major_label_policy\":{\"type\":\"object\",\"name\":\"AllLabels\",\"id\":\"p1021\"}}}],\"below\":[{\"type\":\"object\",\"name\":\"LinearAxis\",\"id\":\"p1013\",\"attributes\":{\"ticker\":{\"type\":\"object\",\"name\":\"BasicTicker\",\"id\":\"p1014\",\"attributes\":{\"mantissas\":[1,2,5]}},\"formatter\":{\"type\":\"object\",\"name\":\"BasicTickFormatter\",\"id\":\"p1015\"},\"axis_label\":\"X values\",\"major_label_policy\":{\"type\":\"object\",\"name\":\"AllLabels\",\"id\":\"p1016\"}}}],\"center\":[{\"type\":\"object\",\"name\":\"Grid\",\"id\":\"p1017\",\"attributes\":{\"axis\":{\"id\":\"p1013\"},\"grid_line_color\":\"grey\",\"grid_line_alpha\":0.5}},{\"type\":\"object\",\"name\":\"Grid\",\"id\":\"p1022\",\"attributes\":{\"dimension\":1,\"axis\":{\"id\":\"p1018\"},\"grid_line_color\":\"grey\",\"grid_line_alpha\":0.5}},{\"type\":\"object\",\"name\":\"Legend\",\"id\":\"p1043\",\"attributes\":{\"items\":[{\"type\":\"object\",\"name\":\"LegendItem\",\"id\":\"p1044\",\"attributes\":{\"label\":{\"type\":\"value\",\"value\":\"Sine Wave\"},\"renderers\":[{\"id\":\"p1040\"}]}}]}}]}}]}};\n",
              "  const render_items = [{\"docid\":\"5e7434a8-0add-41e4-89e8-98112930447f\",\"roots\":{\"p1001\":\"b02956db-1459-4a44-992c-76327feee85a\"},\"root_ids\":[\"p1001\"]}];\n",
              "  void root.Bokeh.embed.embed_items_notebook(docs_json, render_items);\n",
              "  }\n",
              "  if (root.Bokeh !== undefined) {\n",
              "    embed_document(root);\n",
              "  } else {\n",
              "    let attempts = 0;\n",
              "    const timer = setInterval(function(root) {\n",
              "      if (root.Bokeh !== undefined) {\n",
              "        clearInterval(timer);\n",
              "        embed_document(root);\n",
              "      } else {\n",
              "        attempts++;\n",
              "        if (attempts > 100) {\n",
              "          clearInterval(timer);\n",
              "          console.log(\"Bokeh: ERROR: Unable to run BokehJS code because BokehJS library is missing\");\n",
              "        }\n",
              "      }\n",
              "    }, 10, root)\n",
              "  }\n",
              "})(window);"
            ],
            "application/vnd.bokehjs_exec.v0+json": ""
          },
          "metadata": {
            "application/vnd.bokehjs_exec.v0+json": {
              "id": "p1001"
            }
          }
        }
      ]
    },
    {
      "cell_type": "markdown",
      "source": [
        "# 19 Using Bokeh, generate a bar chart of randomly generated categorical data, color bars based on their values, add hover tooltips to display exact values, label the axes, and set the title as 'Random Categorical Bar Chart'."
      ],
      "metadata": {
        "id": "EVsw3WycEXiK"
      }
    },
    {
      "cell_type": "code",
      "source": [
        "from bokeh.plotting import figure, show\n",
        "from bokeh.io import output_notebook\n",
        "from bokeh.models import ColumnDataSource, HoverTool\n",
        "import numpy as np\n",
        "import pandas as pd\n",
        "\n",
        "# Use this line if you are running the code in a Jupyter Notebook\n",
        "output_notebook()\n",
        "\n",
        "# Generate random categorical data\n",
        "categories = ['Category A', 'Category B', 'Category C', 'Category D', 'Category E']\n",
        "values = np.random.randint(1, 100, size=len(categories))  # Random values between 1 and 100\n",
        "\n",
        "# Create a DataFrame for better handling of data\n",
        "data = pd.DataFrame({'categories': categories, 'values': values})\n",
        "\n",
        "# Create a column data source\n",
        "source = ColumnDataSource(data)\n",
        "\n",
        "# Define the color mapping based on values (e.g., use a colormap)\n",
        "color_mapper = [f\"#{int(value * 2.5):02x}00{int(255 - value * 2.5):02x}\" for value in values]\n",
        "\n",
        "# Create a new figure for the plot\n",
        "p = figure(x_range=categories, title='Random Categorical Bar Chart',\n",
        "           x_axis_label='Categories', y_axis_label='Values', toolbar_location=None)\n",
        "\n",
        "# Add bars to the figure\n",
        "p.vbar(x='categories', top='values', width=0.9, source=source,\n",
        "       legend_field='categories', color=color_mapper)\n",
        "\n",
        "# Add hover tooltips to display exact values\n",
        "hover = HoverTool()\n",
        "hover.tooltips = [(\"Category\", \"@categories\"), (\"Value\", \"@values\")]\n",
        "p.add_tools(hover)\n",
        "\n",
        "# Customize aesthetics\n",
        "p.y_range.start = 0\n",
        "p.legend.title = 'Categories'\n",
        "p.legend.location = \"top_left\"\n",
        "p.grid.grid_line_color = 'grey'\n",
        "p.grid.grid_line_alpha = 0.5\n",
        "\n",
        "# Show the plot\n",
        "show(p)"
      ],
      "metadata": {
        "id": "RAF61jA_E9R3"
      },
      "execution_count": null,
      "outputs": []
    },
    {
      "cell_type": "markdown",
      "source": [
        "# 20 Using Plotly, create a basic line plot of a randomly generated dataset, label the axes, and set the title as 'Simple Line Plot'."
      ],
      "metadata": {
        "id": "rZPJ2gxEFOsO"
      }
    },
    {
      "cell_type": "code",
      "source": [
        "import plotly.graph_objs as go\n",
        "import numpy as np\n",
        "\n",
        "# Generate random data\n",
        "np.random.seed(0)  # For reproducibility\n",
        "x = np.linspace(0, 10, 100)  # 100 points from 0 to 10\n",
        "y = np.random.rand(100) * 10   # Random values scaled to a range of 0 to 10\n",
        "\n",
        "# Create a line plot\n",
        "fig = go.Figure()\n",
        "\n",
        "# Add a trace for the line plot\n",
        "fig.add_trace(go.Scatter(x=x, y=y, mode='lines', name='Random Data'))\n",
        "\n",
        "# Update layout to add title and axis labels\n",
        "fig.update_layout(\n",
        "    title='Simple Line Plot',\n",
        "    xaxis_title='X Axis Label',\n",
        "    yaxis_title='Y Axis Label',\n",
        "    template='plotly_white'  # Set a white background template\n",
        ")\n",
        "\n",
        "# Show the plot\n",
        "fig.show()"
      ],
      "metadata": {
        "colab": {
          "base_uri": "https://localhost:8080/",
          "height": 542
        },
        "id": "Lf5eZO5jFj13",
        "outputId": "e48c7161-fd2a-4e92-bda8-fd167855b260"
      },
      "execution_count": 27,
      "outputs": [
        {
          "output_type": "display_data",
          "data": {
            "text/html": [
              "<html>\n",
              "<head><meta charset=\"utf-8\" /></head>\n",
              "<body>\n",
              "    <div>            <script src=\"https://cdnjs.cloudflare.com/ajax/libs/mathjax/2.7.5/MathJax.js?config=TeX-AMS-MML_SVG\"></script><script type=\"text/javascript\">if (window.MathJax && window.MathJax.Hub && window.MathJax.Hub.Config) {window.MathJax.Hub.Config({SVG: {font: \"STIX-Web\"}});}</script>                <script type=\"text/javascript\">window.PlotlyConfig = {MathJaxConfig: 'local'};</script>\n",
              "        <script charset=\"utf-8\" src=\"https://cdn.plot.ly/plotly-2.35.2.min.js\"></script>                <div id=\"72a2d1fb-8ada-4411-bdcf-aeba3d879375\" class=\"plotly-graph-div\" style=\"height:525px; width:100%;\"></div>            <script type=\"text/javascript\">                                    window.PLOTLYENV=window.PLOTLYENV || {};                                    if (document.getElementById(\"72a2d1fb-8ada-4411-bdcf-aeba3d879375\")) {                    Plotly.newPlot(                        \"72a2d1fb-8ada-4411-bdcf-aeba3d879375\",                        [{\"mode\":\"lines\",\"name\":\"Random Data\",\"x\":[0.0,0.10101010101010101,0.20202020202020202,0.30303030303030304,0.40404040404040403,0.5050505050505051,0.6060606060606061,0.7070707070707071,0.8080808080808081,0.9090909090909091,1.0101010101010102,1.1111111111111112,1.2121212121212122,1.3131313131313131,1.4141414141414141,1.5151515151515151,1.6161616161616161,1.7171717171717171,1.8181818181818181,1.9191919191919191,2.0202020202020203,2.121212121212121,2.2222222222222223,2.323232323232323,2.4242424242424243,2.525252525252525,2.6262626262626263,2.727272727272727,2.8282828282828283,2.929292929292929,3.0303030303030303,3.131313131313131,3.2323232323232323,3.3333333333333335,3.4343434343434343,3.5353535353535355,3.6363636363636362,3.7373737373737375,3.8383838383838382,3.9393939393939394,4.040404040404041,4.141414141414141,4.242424242424242,4.343434343434343,4.444444444444445,4.545454545454545,4.646464646464646,4.747474747474747,4.848484848484849,4.94949494949495,5.05050505050505,5.151515151515151,5.252525252525253,5.353535353535354,5.454545454545454,5.555555555555555,5.656565656565657,5.757575757575758,5.858585858585858,5.959595959595959,6.0606060606060606,6.161616161616162,6.262626262626262,6.363636363636363,6.4646464646464645,6.565656565656566,6.666666666666667,6.767676767676767,6.8686868686868685,6.96969696969697,7.070707070707071,7.171717171717171,7.2727272727272725,7.373737373737374,7.474747474747475,7.575757575757575,7.6767676767676765,7.777777777777778,7.878787878787879,7.979797979797979,8.080808080808081,8.181818181818182,8.282828282828282,8.383838383838384,8.484848484848484,8.585858585858587,8.686868686868687,8.787878787878787,8.88888888888889,8.98989898989899,9.09090909090909,9.191919191919192,9.292929292929292,9.393939393939394,9.494949494949495,9.595959595959595,9.696969696969697,9.797979797979798,9.8989898989899,10.0],\"y\":[5.4881350392732475,7.151893663724195,6.027633760716439,5.448831829968968,4.236547993389047,6.458941130666561,4.375872112626925,8.917730007820797,9.636627605010293,3.8344151882577773,7.917250380826646,5.288949197529044,5.680445610939323,9.25596638292661,0.7103605819788694,0.8712929970154071,0.2021839744032572,8.32619845547938,7.781567509498505,8.700121482468191,9.78618342232764,7.9915856421672355,4.6147936225293185,7.805291762864554,1.1827442586893322,6.399210213275238,1.433532874090464,9.446689170495839,5.218483217500717,4.146619399905235,2.64555612104627,7.742336894342166,4.5615033221654855,5.684339488686485,0.18789800436355142,6.176354970758771,6.120957227224214,6.169339968747569,9.437480785146242,6.818202991034834,3.59507900573786,4.3703195379934145,6.976311959272649,0.6022547162926983,6.667667154456677,6.706378696181594,2.103825610738409,1.289262976548533,3.1542835092418384,3.637107709426226,5.701967704178797,4.386015134623204,9.883738380592263,1.0204481074802807,2.088767560948347,1.6130951788499626,6.531083254653984,2.532916025397821,4.663107728563062,2.4442559200160274,1.5896958364551972,1.1037514116430513,6.563295894652734,1.381829513486138,1.965823616800535,3.687251706609641,8.209932298479352,0.9710127579306127,8.379449074988038,0.9609840789396307,9.764594650133958,4.686512016477016,9.767610881903371,6.04845519745046,7.3926357939830165,0.39187792254320675,2.828069625764096,1.201965612131689,2.9614019752214493,1.1872771895424405,3.1798317939397602,4.1426299451467,0.6414749634878436,6.924721193700199,5.666014542065751,2.653894909394454,5.232480534666997,0.9394051075844168,5.759464955561793,9.292961975762141,3.1856895245132364,6.674103799636817,1.3179786240439217,7.163272041185655,2.894060929472011,1.8319136200711683,5.865129348100831,0.20107546187493552,8.289400292173632,0.046954761925470656],\"type\":\"scatter\"}],                        {\"template\":{\"data\":{\"barpolar\":[{\"marker\":{\"line\":{\"color\":\"white\",\"width\":0.5},\"pattern\":{\"fillmode\":\"overlay\",\"size\":10,\"solidity\":0.2}},\"type\":\"barpolar\"}],\"bar\":[{\"error_x\":{\"color\":\"#2a3f5f\"},\"error_y\":{\"color\":\"#2a3f5f\"},\"marker\":{\"line\":{\"color\":\"white\",\"width\":0.5},\"pattern\":{\"fillmode\":\"overlay\",\"size\":10,\"solidity\":0.2}},\"type\":\"bar\"}],\"carpet\":[{\"aaxis\":{\"endlinecolor\":\"#2a3f5f\",\"gridcolor\":\"#C8D4E3\",\"linecolor\":\"#C8D4E3\",\"minorgridcolor\":\"#C8D4E3\",\"startlinecolor\":\"#2a3f5f\"},\"baxis\":{\"endlinecolor\":\"#2a3f5f\",\"gridcolor\":\"#C8D4E3\",\"linecolor\":\"#C8D4E3\",\"minorgridcolor\":\"#C8D4E3\",\"startlinecolor\":\"#2a3f5f\"},\"type\":\"carpet\"}],\"choropleth\":[{\"colorbar\":{\"outlinewidth\":0,\"ticks\":\"\"},\"type\":\"choropleth\"}],\"contourcarpet\":[{\"colorbar\":{\"outlinewidth\":0,\"ticks\":\"\"},\"type\":\"contourcarpet\"}],\"contour\":[{\"colorbar\":{\"outlinewidth\":0,\"ticks\":\"\"},\"colorscale\":[[0.0,\"#0d0887\"],[0.1111111111111111,\"#46039f\"],[0.2222222222222222,\"#7201a8\"],[0.3333333333333333,\"#9c179e\"],[0.4444444444444444,\"#bd3786\"],[0.5555555555555556,\"#d8576b\"],[0.6666666666666666,\"#ed7953\"],[0.7777777777777778,\"#fb9f3a\"],[0.8888888888888888,\"#fdca26\"],[1.0,\"#f0f921\"]],\"type\":\"contour\"}],\"heatmapgl\":[{\"colorbar\":{\"outlinewidth\":0,\"ticks\":\"\"},\"colorscale\":[[0.0,\"#0d0887\"],[0.1111111111111111,\"#46039f\"],[0.2222222222222222,\"#7201a8\"],[0.3333333333333333,\"#9c179e\"],[0.4444444444444444,\"#bd3786\"],[0.5555555555555556,\"#d8576b\"],[0.6666666666666666,\"#ed7953\"],[0.7777777777777778,\"#fb9f3a\"],[0.8888888888888888,\"#fdca26\"],[1.0,\"#f0f921\"]],\"type\":\"heatmapgl\"}],\"heatmap\":[{\"colorbar\":{\"outlinewidth\":0,\"ticks\":\"\"},\"colorscale\":[[0.0,\"#0d0887\"],[0.1111111111111111,\"#46039f\"],[0.2222222222222222,\"#7201a8\"],[0.3333333333333333,\"#9c179e\"],[0.4444444444444444,\"#bd3786\"],[0.5555555555555556,\"#d8576b\"],[0.6666666666666666,\"#ed7953\"],[0.7777777777777778,\"#fb9f3a\"],[0.8888888888888888,\"#fdca26\"],[1.0,\"#f0f921\"]],\"type\":\"heatmap\"}],\"histogram2dcontour\":[{\"colorbar\":{\"outlinewidth\":0,\"ticks\":\"\"},\"colorscale\":[[0.0,\"#0d0887\"],[0.1111111111111111,\"#46039f\"],[0.2222222222222222,\"#7201a8\"],[0.3333333333333333,\"#9c179e\"],[0.4444444444444444,\"#bd3786\"],[0.5555555555555556,\"#d8576b\"],[0.6666666666666666,\"#ed7953\"],[0.7777777777777778,\"#fb9f3a\"],[0.8888888888888888,\"#fdca26\"],[1.0,\"#f0f921\"]],\"type\":\"histogram2dcontour\"}],\"histogram2d\":[{\"colorbar\":{\"outlinewidth\":0,\"ticks\":\"\"},\"colorscale\":[[0.0,\"#0d0887\"],[0.1111111111111111,\"#46039f\"],[0.2222222222222222,\"#7201a8\"],[0.3333333333333333,\"#9c179e\"],[0.4444444444444444,\"#bd3786\"],[0.5555555555555556,\"#d8576b\"],[0.6666666666666666,\"#ed7953\"],[0.7777777777777778,\"#fb9f3a\"],[0.8888888888888888,\"#fdca26\"],[1.0,\"#f0f921\"]],\"type\":\"histogram2d\"}],\"histogram\":[{\"marker\":{\"pattern\":{\"fillmode\":\"overlay\",\"size\":10,\"solidity\":0.2}},\"type\":\"histogram\"}],\"mesh3d\":[{\"colorbar\":{\"outlinewidth\":0,\"ticks\":\"\"},\"type\":\"mesh3d\"}],\"parcoords\":[{\"line\":{\"colorbar\":{\"outlinewidth\":0,\"ticks\":\"\"}},\"type\":\"parcoords\"}],\"pie\":[{\"automargin\":true,\"type\":\"pie\"}],\"scatter3d\":[{\"line\":{\"colorbar\":{\"outlinewidth\":0,\"ticks\":\"\"}},\"marker\":{\"colorbar\":{\"outlinewidth\":0,\"ticks\":\"\"}},\"type\":\"scatter3d\"}],\"scattercarpet\":[{\"marker\":{\"colorbar\":{\"outlinewidth\":0,\"ticks\":\"\"}},\"type\":\"scattercarpet\"}],\"scattergeo\":[{\"marker\":{\"colorbar\":{\"outlinewidth\":0,\"ticks\":\"\"}},\"type\":\"scattergeo\"}],\"scattergl\":[{\"marker\":{\"colorbar\":{\"outlinewidth\":0,\"ticks\":\"\"}},\"type\":\"scattergl\"}],\"scattermapbox\":[{\"marker\":{\"colorbar\":{\"outlinewidth\":0,\"ticks\":\"\"}},\"type\":\"scattermapbox\"}],\"scatterpolargl\":[{\"marker\":{\"colorbar\":{\"outlinewidth\":0,\"ticks\":\"\"}},\"type\":\"scatterpolargl\"}],\"scatterpolar\":[{\"marker\":{\"colorbar\":{\"outlinewidth\":0,\"ticks\":\"\"}},\"type\":\"scatterpolar\"}],\"scatter\":[{\"fillpattern\":{\"fillmode\":\"overlay\",\"size\":10,\"solidity\":0.2},\"type\":\"scatter\"}],\"scatterternary\":[{\"marker\":{\"colorbar\":{\"outlinewidth\":0,\"ticks\":\"\"}},\"type\":\"scatterternary\"}],\"surface\":[{\"colorbar\":{\"outlinewidth\":0,\"ticks\":\"\"},\"colorscale\":[[0.0,\"#0d0887\"],[0.1111111111111111,\"#46039f\"],[0.2222222222222222,\"#7201a8\"],[0.3333333333333333,\"#9c179e\"],[0.4444444444444444,\"#bd3786\"],[0.5555555555555556,\"#d8576b\"],[0.6666666666666666,\"#ed7953\"],[0.7777777777777778,\"#fb9f3a\"],[0.8888888888888888,\"#fdca26\"],[1.0,\"#f0f921\"]],\"type\":\"surface\"}],\"table\":[{\"cells\":{\"fill\":{\"color\":\"#EBF0F8\"},\"line\":{\"color\":\"white\"}},\"header\":{\"fill\":{\"color\":\"#C8D4E3\"},\"line\":{\"color\":\"white\"}},\"type\":\"table\"}]},\"layout\":{\"annotationdefaults\":{\"arrowcolor\":\"#2a3f5f\",\"arrowhead\":0,\"arrowwidth\":1},\"autotypenumbers\":\"strict\",\"coloraxis\":{\"colorbar\":{\"outlinewidth\":0,\"ticks\":\"\"}},\"colorscale\":{\"diverging\":[[0,\"#8e0152\"],[0.1,\"#c51b7d\"],[0.2,\"#de77ae\"],[0.3,\"#f1b6da\"],[0.4,\"#fde0ef\"],[0.5,\"#f7f7f7\"],[0.6,\"#e6f5d0\"],[0.7,\"#b8e186\"],[0.8,\"#7fbc41\"],[0.9,\"#4d9221\"],[1,\"#276419\"]],\"sequential\":[[0.0,\"#0d0887\"],[0.1111111111111111,\"#46039f\"],[0.2222222222222222,\"#7201a8\"],[0.3333333333333333,\"#9c179e\"],[0.4444444444444444,\"#bd3786\"],[0.5555555555555556,\"#d8576b\"],[0.6666666666666666,\"#ed7953\"],[0.7777777777777778,\"#fb9f3a\"],[0.8888888888888888,\"#fdca26\"],[1.0,\"#f0f921\"]],\"sequentialminus\":[[0.0,\"#0d0887\"],[0.1111111111111111,\"#46039f\"],[0.2222222222222222,\"#7201a8\"],[0.3333333333333333,\"#9c179e\"],[0.4444444444444444,\"#bd3786\"],[0.5555555555555556,\"#d8576b\"],[0.6666666666666666,\"#ed7953\"],[0.7777777777777778,\"#fb9f3a\"],[0.8888888888888888,\"#fdca26\"],[1.0,\"#f0f921\"]]},\"colorway\":[\"#636efa\",\"#EF553B\",\"#00cc96\",\"#ab63fa\",\"#FFA15A\",\"#19d3f3\",\"#FF6692\",\"#B6E880\",\"#FF97FF\",\"#FECB52\"],\"font\":{\"color\":\"#2a3f5f\"},\"geo\":{\"bgcolor\":\"white\",\"lakecolor\":\"white\",\"landcolor\":\"white\",\"showlakes\":true,\"showland\":true,\"subunitcolor\":\"#C8D4E3\"},\"hoverlabel\":{\"align\":\"left\"},\"hovermode\":\"closest\",\"mapbox\":{\"style\":\"light\"},\"paper_bgcolor\":\"white\",\"plot_bgcolor\":\"white\",\"polar\":{\"angularaxis\":{\"gridcolor\":\"#EBF0F8\",\"linecolor\":\"#EBF0F8\",\"ticks\":\"\"},\"bgcolor\":\"white\",\"radialaxis\":{\"gridcolor\":\"#EBF0F8\",\"linecolor\":\"#EBF0F8\",\"ticks\":\"\"}},\"scene\":{\"xaxis\":{\"backgroundcolor\":\"white\",\"gridcolor\":\"#DFE8F3\",\"gridwidth\":2,\"linecolor\":\"#EBF0F8\",\"showbackground\":true,\"ticks\":\"\",\"zerolinecolor\":\"#EBF0F8\"},\"yaxis\":{\"backgroundcolor\":\"white\",\"gridcolor\":\"#DFE8F3\",\"gridwidth\":2,\"linecolor\":\"#EBF0F8\",\"showbackground\":true,\"ticks\":\"\",\"zerolinecolor\":\"#EBF0F8\"},\"zaxis\":{\"backgroundcolor\":\"white\",\"gridcolor\":\"#DFE8F3\",\"gridwidth\":2,\"linecolor\":\"#EBF0F8\",\"showbackground\":true,\"ticks\":\"\",\"zerolinecolor\":\"#EBF0F8\"}},\"shapedefaults\":{\"line\":{\"color\":\"#2a3f5f\"}},\"ternary\":{\"aaxis\":{\"gridcolor\":\"#DFE8F3\",\"linecolor\":\"#A2B1C6\",\"ticks\":\"\"},\"baxis\":{\"gridcolor\":\"#DFE8F3\",\"linecolor\":\"#A2B1C6\",\"ticks\":\"\"},\"bgcolor\":\"white\",\"caxis\":{\"gridcolor\":\"#DFE8F3\",\"linecolor\":\"#A2B1C6\",\"ticks\":\"\"}},\"title\":{\"x\":0.05},\"xaxis\":{\"automargin\":true,\"gridcolor\":\"#EBF0F8\",\"linecolor\":\"#EBF0F8\",\"ticks\":\"\",\"title\":{\"standoff\":15},\"zerolinecolor\":\"#EBF0F8\",\"zerolinewidth\":2},\"yaxis\":{\"automargin\":true,\"gridcolor\":\"#EBF0F8\",\"linecolor\":\"#EBF0F8\",\"ticks\":\"\",\"title\":{\"standoff\":15},\"zerolinecolor\":\"#EBF0F8\",\"zerolinewidth\":2}}},\"title\":{\"text\":\"Simple Line Plot\"},\"xaxis\":{\"title\":{\"text\":\"X Axis Label\"}},\"yaxis\":{\"title\":{\"text\":\"Y Axis Label\"}}},                        {\"responsive\": true}                    ).then(function(){\n",
              "                            \n",
              "var gd = document.getElementById('72a2d1fb-8ada-4411-bdcf-aeba3d879375');\n",
              "var x = new MutationObserver(function (mutations, observer) {{\n",
              "        var display = window.getComputedStyle(gd).display;\n",
              "        if (!display || display === 'none') {{\n",
              "            console.log([gd, 'removed!']);\n",
              "            Plotly.purge(gd);\n",
              "            observer.disconnect();\n",
              "        }}\n",
              "}});\n",
              "\n",
              "// Listen for the removal of the full notebook cells\n",
              "var notebookContainer = gd.closest('#notebook-container');\n",
              "if (notebookContainer) {{\n",
              "    x.observe(notebookContainer, {childList: true});\n",
              "}}\n",
              "\n",
              "// Listen for the clearing of the current output cell\n",
              "var outputEl = gd.closest('.output');\n",
              "if (outputEl) {{\n",
              "    x.observe(outputEl, {childList: true});\n",
              "}}\n",
              "\n",
              "                        })                };                            </script>        </div>\n",
              "</body>\n",
              "</html>"
            ]
          },
          "metadata": {}
        }
      ]
    },
    {
      "cell_type": "markdown",
      "source": [
        "# 21 Using Plotly, create an interactive pie chart of randomly generated data, add labels and percentages, set the title as 'Interactive Pie Chart'."
      ],
      "metadata": {
        "id": "HdtEqyqNFw7H"
      }
    },
    {
      "cell_type": "code",
      "source": [
        "import plotly.graph_objs as go\n",
        "import numpy as np\n",
        "\n",
        "# Generate random data\n",
        "np.random.seed(0)  # For reproducibility\n",
        "labels = ['Category A', 'Category B', 'Category C', 'Category D', 'Category E']\n",
        "values = np.random.randint(1, 100, size=len(labels))  # Random values between 1 and 100\n",
        "\n",
        "# Create a pie chart\n",
        "fig = go.Figure(data=[go.Pie(labels=labels, values=values,\n",
        "                               textinfo='label+percent',\n",
        "                               insidetextorientation='radial')])\n",
        "\n",
        "# Update layout to add title\n",
        "fig.update_layout(title='Interactive Pie Chart')\n",
        "\n",
        "# Show the plot\n",
        "fig.show()"
      ],
      "metadata": {
        "colab": {
          "base_uri": "https://localhost:8080/",
          "height": 542
        },
        "id": "_HohT5VeFlYT",
        "outputId": "23b654e4-310a-4c1c-ce23-8c33e15f43ab"
      },
      "execution_count": 28,
      "outputs": [
        {
          "output_type": "display_data",
          "data": {
            "text/html": [
              "<html>\n",
              "<head><meta charset=\"utf-8\" /></head>\n",
              "<body>\n",
              "    <div>            <script src=\"https://cdnjs.cloudflare.com/ajax/libs/mathjax/2.7.5/MathJax.js?config=TeX-AMS-MML_SVG\"></script><script type=\"text/javascript\">if (window.MathJax && window.MathJax.Hub && window.MathJax.Hub.Config) {window.MathJax.Hub.Config({SVG: {font: \"STIX-Web\"}});}</script>                <script type=\"text/javascript\">window.PlotlyConfig = {MathJaxConfig: 'local'};</script>\n",
              "        <script charset=\"utf-8\" src=\"https://cdn.plot.ly/plotly-2.35.2.min.js\"></script>                <div id=\"618d2d58-31b3-431a-8d45-68cc45ca99a1\" class=\"plotly-graph-div\" style=\"height:525px; width:100%;\"></div>            <script type=\"text/javascript\">                                    window.PLOTLYENV=window.PLOTLYENV || {};                                    if (document.getElementById(\"618d2d58-31b3-431a-8d45-68cc45ca99a1\")) {                    Plotly.newPlot(                        \"618d2d58-31b3-431a-8d45-68cc45ca99a1\",                        [{\"insidetextorientation\":\"radial\",\"labels\":[\"Category A\",\"Category B\",\"Category C\",\"Category D\",\"Category E\"],\"textinfo\":\"label+percent\",\"values\":[45,48,65,68,68],\"type\":\"pie\"}],                        {\"template\":{\"data\":{\"histogram2dcontour\":[{\"type\":\"histogram2dcontour\",\"colorbar\":{\"outlinewidth\":0,\"ticks\":\"\"},\"colorscale\":[[0.0,\"#0d0887\"],[0.1111111111111111,\"#46039f\"],[0.2222222222222222,\"#7201a8\"],[0.3333333333333333,\"#9c179e\"],[0.4444444444444444,\"#bd3786\"],[0.5555555555555556,\"#d8576b\"],[0.6666666666666666,\"#ed7953\"],[0.7777777777777778,\"#fb9f3a\"],[0.8888888888888888,\"#fdca26\"],[1.0,\"#f0f921\"]]}],\"choropleth\":[{\"type\":\"choropleth\",\"colorbar\":{\"outlinewidth\":0,\"ticks\":\"\"}}],\"histogram2d\":[{\"type\":\"histogram2d\",\"colorbar\":{\"outlinewidth\":0,\"ticks\":\"\"},\"colorscale\":[[0.0,\"#0d0887\"],[0.1111111111111111,\"#46039f\"],[0.2222222222222222,\"#7201a8\"],[0.3333333333333333,\"#9c179e\"],[0.4444444444444444,\"#bd3786\"],[0.5555555555555556,\"#d8576b\"],[0.6666666666666666,\"#ed7953\"],[0.7777777777777778,\"#fb9f3a\"],[0.8888888888888888,\"#fdca26\"],[1.0,\"#f0f921\"]]}],\"heatmap\":[{\"type\":\"heatmap\",\"colorbar\":{\"outlinewidth\":0,\"ticks\":\"\"},\"colorscale\":[[0.0,\"#0d0887\"],[0.1111111111111111,\"#46039f\"],[0.2222222222222222,\"#7201a8\"],[0.3333333333333333,\"#9c179e\"],[0.4444444444444444,\"#bd3786\"],[0.5555555555555556,\"#d8576b\"],[0.6666666666666666,\"#ed7953\"],[0.7777777777777778,\"#fb9f3a\"],[0.8888888888888888,\"#fdca26\"],[1.0,\"#f0f921\"]]}],\"heatmapgl\":[{\"type\":\"heatmapgl\",\"colorbar\":{\"outlinewidth\":0,\"ticks\":\"\"},\"colorscale\":[[0.0,\"#0d0887\"],[0.1111111111111111,\"#46039f\"],[0.2222222222222222,\"#7201a8\"],[0.3333333333333333,\"#9c179e\"],[0.4444444444444444,\"#bd3786\"],[0.5555555555555556,\"#d8576b\"],[0.6666666666666666,\"#ed7953\"],[0.7777777777777778,\"#fb9f3a\"],[0.8888888888888888,\"#fdca26\"],[1.0,\"#f0f921\"]]}],\"contourcarpet\":[{\"type\":\"contourcarpet\",\"colorbar\":{\"outlinewidth\":0,\"ticks\":\"\"}}],\"contour\":[{\"type\":\"contour\",\"colorbar\":{\"outlinewidth\":0,\"ticks\":\"\"},\"colorscale\":[[0.0,\"#0d0887\"],[0.1111111111111111,\"#46039f\"],[0.2222222222222222,\"#7201a8\"],[0.3333333333333333,\"#9c179e\"],[0.4444444444444444,\"#bd3786\"],[0.5555555555555556,\"#d8576b\"],[0.6666666666666666,\"#ed7953\"],[0.7777777777777778,\"#fb9f3a\"],[0.8888888888888888,\"#fdca26\"],[1.0,\"#f0f921\"]]}],\"surface\":[{\"type\":\"surface\",\"colorbar\":{\"outlinewidth\":0,\"ticks\":\"\"},\"colorscale\":[[0.0,\"#0d0887\"],[0.1111111111111111,\"#46039f\"],[0.2222222222222222,\"#7201a8\"],[0.3333333333333333,\"#9c179e\"],[0.4444444444444444,\"#bd3786\"],[0.5555555555555556,\"#d8576b\"],[0.6666666666666666,\"#ed7953\"],[0.7777777777777778,\"#fb9f3a\"],[0.8888888888888888,\"#fdca26\"],[1.0,\"#f0f921\"]]}],\"mesh3d\":[{\"type\":\"mesh3d\",\"colorbar\":{\"outlinewidth\":0,\"ticks\":\"\"}}],\"scatter\":[{\"fillpattern\":{\"fillmode\":\"overlay\",\"size\":10,\"solidity\":0.2},\"type\":\"scatter\"}],\"parcoords\":[{\"type\":\"parcoords\",\"line\":{\"colorbar\":{\"outlinewidth\":0,\"ticks\":\"\"}}}],\"scatterpolargl\":[{\"type\":\"scatterpolargl\",\"marker\":{\"colorbar\":{\"outlinewidth\":0,\"ticks\":\"\"}}}],\"bar\":[{\"error_x\":{\"color\":\"#2a3f5f\"},\"error_y\":{\"color\":\"#2a3f5f\"},\"marker\":{\"line\":{\"color\":\"#E5ECF6\",\"width\":0.5},\"pattern\":{\"fillmode\":\"overlay\",\"size\":10,\"solidity\":0.2}},\"type\":\"bar\"}],\"scattergeo\":[{\"type\":\"scattergeo\",\"marker\":{\"colorbar\":{\"outlinewidth\":0,\"ticks\":\"\"}}}],\"scatterpolar\":[{\"type\":\"scatterpolar\",\"marker\":{\"colorbar\":{\"outlinewidth\":0,\"ticks\":\"\"}}}],\"histogram\":[{\"marker\":{\"pattern\":{\"fillmode\":\"overlay\",\"size\":10,\"solidity\":0.2}},\"type\":\"histogram\"}],\"scattergl\":[{\"type\":\"scattergl\",\"marker\":{\"colorbar\":{\"outlinewidth\":0,\"ticks\":\"\"}}}],\"scatter3d\":[{\"type\":\"scatter3d\",\"line\":{\"colorbar\":{\"outlinewidth\":0,\"ticks\":\"\"}},\"marker\":{\"colorbar\":{\"outlinewidth\":0,\"ticks\":\"\"}}}],\"scattermapbox\":[{\"type\":\"scattermapbox\",\"marker\":{\"colorbar\":{\"outlinewidth\":0,\"ticks\":\"\"}}}],\"scatterternary\":[{\"type\":\"scatterternary\",\"marker\":{\"colorbar\":{\"outlinewidth\":0,\"ticks\":\"\"}}}],\"scattercarpet\":[{\"type\":\"scattercarpet\",\"marker\":{\"colorbar\":{\"outlinewidth\":0,\"ticks\":\"\"}}}],\"carpet\":[{\"aaxis\":{\"endlinecolor\":\"#2a3f5f\",\"gridcolor\":\"white\",\"linecolor\":\"white\",\"minorgridcolor\":\"white\",\"startlinecolor\":\"#2a3f5f\"},\"baxis\":{\"endlinecolor\":\"#2a3f5f\",\"gridcolor\":\"white\",\"linecolor\":\"white\",\"minorgridcolor\":\"white\",\"startlinecolor\":\"#2a3f5f\"},\"type\":\"carpet\"}],\"table\":[{\"cells\":{\"fill\":{\"color\":\"#EBF0F8\"},\"line\":{\"color\":\"white\"}},\"header\":{\"fill\":{\"color\":\"#C8D4E3\"},\"line\":{\"color\":\"white\"}},\"type\":\"table\"}],\"barpolar\":[{\"marker\":{\"line\":{\"color\":\"#E5ECF6\",\"width\":0.5},\"pattern\":{\"fillmode\":\"overlay\",\"size\":10,\"solidity\":0.2}},\"type\":\"barpolar\"}],\"pie\":[{\"automargin\":true,\"type\":\"pie\"}]},\"layout\":{\"autotypenumbers\":\"strict\",\"colorway\":[\"#636efa\",\"#EF553B\",\"#00cc96\",\"#ab63fa\",\"#FFA15A\",\"#19d3f3\",\"#FF6692\",\"#B6E880\",\"#FF97FF\",\"#FECB52\"],\"font\":{\"color\":\"#2a3f5f\"},\"hovermode\":\"closest\",\"hoverlabel\":{\"align\":\"left\"},\"paper_bgcolor\":\"white\",\"plot_bgcolor\":\"#E5ECF6\",\"polar\":{\"bgcolor\":\"#E5ECF6\",\"angularaxis\":{\"gridcolor\":\"white\",\"linecolor\":\"white\",\"ticks\":\"\"},\"radialaxis\":{\"gridcolor\":\"white\",\"linecolor\":\"white\",\"ticks\":\"\"}},\"ternary\":{\"bgcolor\":\"#E5ECF6\",\"aaxis\":{\"gridcolor\":\"white\",\"linecolor\":\"white\",\"ticks\":\"\"},\"baxis\":{\"gridcolor\":\"white\",\"linecolor\":\"white\",\"ticks\":\"\"},\"caxis\":{\"gridcolor\":\"white\",\"linecolor\":\"white\",\"ticks\":\"\"}},\"coloraxis\":{\"colorbar\":{\"outlinewidth\":0,\"ticks\":\"\"}},\"colorscale\":{\"sequential\":[[0.0,\"#0d0887\"],[0.1111111111111111,\"#46039f\"],[0.2222222222222222,\"#7201a8\"],[0.3333333333333333,\"#9c179e\"],[0.4444444444444444,\"#bd3786\"],[0.5555555555555556,\"#d8576b\"],[0.6666666666666666,\"#ed7953\"],[0.7777777777777778,\"#fb9f3a\"],[0.8888888888888888,\"#fdca26\"],[1.0,\"#f0f921\"]],\"sequentialminus\":[[0.0,\"#0d0887\"],[0.1111111111111111,\"#46039f\"],[0.2222222222222222,\"#7201a8\"],[0.3333333333333333,\"#9c179e\"],[0.4444444444444444,\"#bd3786\"],[0.5555555555555556,\"#d8576b\"],[0.6666666666666666,\"#ed7953\"],[0.7777777777777778,\"#fb9f3a\"],[0.8888888888888888,\"#fdca26\"],[1.0,\"#f0f921\"]],\"diverging\":[[0,\"#8e0152\"],[0.1,\"#c51b7d\"],[0.2,\"#de77ae\"],[0.3,\"#f1b6da\"],[0.4,\"#fde0ef\"],[0.5,\"#f7f7f7\"],[0.6,\"#e6f5d0\"],[0.7,\"#b8e186\"],[0.8,\"#7fbc41\"],[0.9,\"#4d9221\"],[1,\"#276419\"]]},\"xaxis\":{\"gridcolor\":\"white\",\"linecolor\":\"white\",\"ticks\":\"\",\"title\":{\"standoff\":15},\"zerolinecolor\":\"white\",\"automargin\":true,\"zerolinewidth\":2},\"yaxis\":{\"gridcolor\":\"white\",\"linecolor\":\"white\",\"ticks\":\"\",\"title\":{\"standoff\":15},\"zerolinecolor\":\"white\",\"automargin\":true,\"zerolinewidth\":2},\"scene\":{\"xaxis\":{\"backgroundcolor\":\"#E5ECF6\",\"gridcolor\":\"white\",\"linecolor\":\"white\",\"showbackground\":true,\"ticks\":\"\",\"zerolinecolor\":\"white\",\"gridwidth\":2},\"yaxis\":{\"backgroundcolor\":\"#E5ECF6\",\"gridcolor\":\"white\",\"linecolor\":\"white\",\"showbackground\":true,\"ticks\":\"\",\"zerolinecolor\":\"white\",\"gridwidth\":2},\"zaxis\":{\"backgroundcolor\":\"#E5ECF6\",\"gridcolor\":\"white\",\"linecolor\":\"white\",\"showbackground\":true,\"ticks\":\"\",\"zerolinecolor\":\"white\",\"gridwidth\":2}},\"shapedefaults\":{\"line\":{\"color\":\"#2a3f5f\"}},\"annotationdefaults\":{\"arrowcolor\":\"#2a3f5f\",\"arrowhead\":0,\"arrowwidth\":1},\"geo\":{\"bgcolor\":\"white\",\"landcolor\":\"#E5ECF6\",\"subunitcolor\":\"white\",\"showland\":true,\"showlakes\":true,\"lakecolor\":\"white\"},\"title\":{\"x\":0.05},\"mapbox\":{\"style\":\"light\"}}},\"title\":{\"text\":\"Interactive Pie Chart\"}},                        {\"responsive\": true}                    ).then(function(){\n",
              "                            \n",
              "var gd = document.getElementById('618d2d58-31b3-431a-8d45-68cc45ca99a1');\n",
              "var x = new MutationObserver(function (mutations, observer) {{\n",
              "        var display = window.getComputedStyle(gd).display;\n",
              "        if (!display || display === 'none') {{\n",
              "            console.log([gd, 'removed!']);\n",
              "            Plotly.purge(gd);\n",
              "            observer.disconnect();\n",
              "        }}\n",
              "}});\n",
              "\n",
              "// Listen for the removal of the full notebook cells\n",
              "var notebookContainer = gd.closest('#notebook-container');\n",
              "if (notebookContainer) {{\n",
              "    x.observe(notebookContainer, {childList: true});\n",
              "}}\n",
              "\n",
              "// Listen for the clearing of the current output cell\n",
              "var outputEl = gd.closest('.output');\n",
              "if (outputEl) {{\n",
              "    x.observe(outputEl, {childList: true});\n",
              "}}\n",
              "\n",
              "                        })                };                            </script>        </div>\n",
              "</body>\n",
              "</html>"
            ]
          },
          "metadata": {}
        }
      ]
    }
  ]
}